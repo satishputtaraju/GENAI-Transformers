{
 "cells": [
  {
   "cell_type": "markdown",
   "id": "7aece2bc",
   "metadata": {},
   "source": [
    "# MSIT 3103 — Assignment 4 Hotstart Notebook\n",
    "**Comparative Analysis of Training Methods (5%)**  \n",
    "**Due:** End of Week 5  \n",
    "**CLO3:** Compare and evaluate different training methodologies used in generative AI models.\n",
    "\n",
    "This notebook gives you a simple, compact scaffold so you can **experiment quickly** while keeping your work **well-structured and comparable**. You’ll train the **same tiny generative model** with three methods:\n",
    "\n",
    "1. **Pre-training (Unsupervised LM)**\n",
    "2. **Supervised Fine-Tuning (SFT)**\n",
    "3. **(Bonus) Reinforcement Learning (RL-lite)** — toy REINFORCE with a simple reward\n",
    "\n",
    "You will:\n",
    "- Run short training loops on tiny data to **see the dynamics**, not to hit SOTA.\n",
    "- Use helper utilities to **measure perplexity**, sample generations, and **plot losses**.\n",
    "- Fill in the **Results & Discussion** cells with your observations.\n",
    "\n",
    "> ⚠️ The defaults are intentionally tiny (fast, CPU-friendly). Scale up **only if your machine can handle it**.\n"
   ]
  },
  {
   "cell_type": "markdown",
   "id": "113570e1",
   "metadata": {},
   "source": [
    "# Report Questions (Answer in your 2–5 page PDF)\n",
    "\n",
    "### 1. Introduction (Objectives & Rationale)\n",
    "1. What training methods are you comparing in this assignment?  \n",
    "2. Why did you choose these methods and settings?  \n",
    "3. Were there any hardware or time constraints that influenced your choices?  \n",
    "\n",
    "### 2. Methods\n",
    "4. What dataset did you use (corpus size, preprocessing steps, train/validation split)?  \n",
    "5. What is the architecture of your model (layers, hidden size, heads, parameters)?  \n",
    "6. How did you train your models (steps, batch size, learning rate, optimizer)?  \n",
    "7. For SFT: How did you construct or curate your instruction–answer pairs?  \n",
    "8. For RL-lite: What reward function did you design and why?  \n",
    "\n",
    "### 3. Results\n",
    "9. What do your loss curves show for pre-training vs. SFT?  \n",
    "10. How do the perplexity scores compare across methods?  \n",
    "11. How do BLEU scores differ for the instruction prompts?  \n",
    "12. How do sample outputs change before SFT, after SFT, and after RL-lite? Provide examples.  \n",
    "\n",
    "### 4. Discussion\n",
    "13. How stable was the training process (convergence, fluctuations, instabilities)?  \n",
    "14. What transfer effects did you observe from pre-training to SFT?  \n",
    "15. What were the strengths and weaknesses of your RL-lite approach?  \n",
    "16. What were the main costs in terms of resources and time? If you scaled up, what would you change next?  \n",
    "\n",
    "### 5. Conclusion\n",
    "17. What are your key insights from comparing these training methods?  \n",
    "18. What practical recommendations would you make for someone building generative AI models based on your experiments?  \n",
    "\n",
    "## [Bonus] RL-lite with REINFORCE (Optional)\n",
    "**Toy** example: optimize the model to include a **keyword** in the completion and keep length near a **target**.\n",
    "\n"
   ]
  },
  {
   "cell_type": "code",
   "execution_count": 2,
   "id": "f6d02cb8",
   "metadata": {},
   "outputs": [
    {
     "name": "stdout",
     "output_type": "stream",
     "text": [
      "Requirement already satisfied: ipykernel in c:\\users\\puttarajus\\desktop\\.venv\\lib\\site-packages (6.30.1)\n",
      "Requirement already satisfied: comm>=0.1.1 in c:\\users\\puttarajus\\desktop\\.venv\\lib\\site-packages (from ipykernel) (0.2.3)\n",
      "Requirement already satisfied: debugpy>=1.6.5 in c:\\users\\puttarajus\\desktop\\.venv\\lib\\site-packages (from ipykernel) (1.8.16)\n",
      "Requirement already satisfied: ipython>=7.23.1 in c:\\users\\puttarajus\\desktop\\.venv\\lib\\site-packages (from ipykernel) (9.5.0)\n",
      "Requirement already satisfied: jupyter-client>=8.0.0 in c:\\users\\puttarajus\\desktop\\.venv\\lib\\site-packages (from ipykernel) (8.6.3)\n",
      "Requirement already satisfied: jupyter-core!=5.0.*,>=4.12 in c:\\users\\puttarajus\\desktop\\.venv\\lib\\site-packages (from ipykernel) (5.8.1)\n",
      "Requirement already satisfied: matplotlib-inline>=0.1 in c:\\users\\puttarajus\\desktop\\.venv\\lib\\site-packages (from ipykernel) (0.1.7)\n",
      "Requirement already satisfied: nest-asyncio>=1.4 in c:\\users\\puttarajus\\desktop\\.venv\\lib\\site-packages (from ipykernel) (1.6.0)\n",
      "Requirement already satisfied: packaging>=22 in c:\\users\\puttarajus\\desktop\\.venv\\lib\\site-packages (from ipykernel) (25.0)\n",
      "Requirement already satisfied: psutil>=5.7 in c:\\users\\puttarajus\\desktop\\.venv\\lib\\site-packages (from ipykernel) (7.0.0)\n",
      "Requirement already satisfied: pyzmq>=25 in c:\\users\\puttarajus\\desktop\\.venv\\lib\\site-packages (from ipykernel) (27.0.2)\n",
      "Requirement already satisfied: tornado>=6.2 in c:\\users\\puttarajus\\desktop\\.venv\\lib\\site-packages (from ipykernel) (6.5.2)\n",
      "Requirement already satisfied: traitlets>=5.4.0 in c:\\users\\puttarajus\\desktop\\.venv\\lib\\site-packages (from ipykernel) (5.14.3)\n",
      "Requirement already satisfied: colorama in c:\\users\\puttarajus\\desktop\\.venv\\lib\\site-packages (from ipython>=7.23.1->ipykernel) (0.4.6)\n",
      "Requirement already satisfied: decorator in c:\\users\\puttarajus\\desktop\\.venv\\lib\\site-packages (from ipython>=7.23.1->ipykernel) (5.2.1)\n",
      "Requirement already satisfied: ipython-pygments-lexers in c:\\users\\puttarajus\\desktop\\.venv\\lib\\site-packages (from ipython>=7.23.1->ipykernel) (1.1.1)\n",
      "Requirement already satisfied: jedi>=0.16 in c:\\users\\puttarajus\\desktop\\.venv\\lib\\site-packages (from ipython>=7.23.1->ipykernel) (0.19.2)\n",
      "Requirement already satisfied: prompt_toolkit<3.1.0,>=3.0.41 in c:\\users\\puttarajus\\desktop\\.venv\\lib\\site-packages (from ipython>=7.23.1->ipykernel) (3.0.52)\n",
      "Requirement already satisfied: pygments>=2.4.0 in c:\\users\\puttarajus\\desktop\\.venv\\lib\\site-packages (from ipython>=7.23.1->ipykernel) (2.19.2)\n",
      "Requirement already satisfied: stack_data in c:\\users\\puttarajus\\desktop\\.venv\\lib\\site-packages (from ipython>=7.23.1->ipykernel) (0.6.3)\n",
      "Requirement already satisfied: wcwidth in c:\\users\\puttarajus\\desktop\\.venv\\lib\\site-packages (from prompt_toolkit<3.1.0,>=3.0.41->ipython>=7.23.1->ipykernel) (0.2.13)\n",
      "Requirement already satisfied: parso<0.9.0,>=0.8.4 in c:\\users\\puttarajus\\desktop\\.venv\\lib\\site-packages (from jedi>=0.16->ipython>=7.23.1->ipykernel) (0.8.5)\n",
      "Requirement already satisfied: python-dateutil>=2.8.2 in c:\\users\\puttarajus\\desktop\\.venv\\lib\\site-packages (from jupyter-client>=8.0.0->ipykernel) (2.9.0.post0)\n",
      "Requirement already satisfied: platformdirs>=2.5 in c:\\users\\puttarajus\\desktop\\.venv\\lib\\site-packages (from jupyter-core!=5.0.*,>=4.12->ipykernel) (4.4.0)\n",
      "Requirement already satisfied: pywin32>=300 in c:\\users\\puttarajus\\desktop\\.venv\\lib\\site-packages (from jupyter-core!=5.0.*,>=4.12->ipykernel) (311)\n",
      "Requirement already satisfied: six>=1.5 in c:\\users\\puttarajus\\desktop\\.venv\\lib\\site-packages (from python-dateutil>=2.8.2->jupyter-client>=8.0.0->ipykernel) (1.17.0)\n",
      "Requirement already satisfied: executing>=1.2.0 in c:\\users\\puttarajus\\desktop\\.venv\\lib\\site-packages (from stack_data->ipython>=7.23.1->ipykernel) (2.2.0)\n",
      "Requirement already satisfied: asttokens>=2.1.0 in c:\\users\\puttarajus\\desktop\\.venv\\lib\\site-packages (from stack_data->ipython>=7.23.1->ipykernel) (3.0.0)\n",
      "Requirement already satisfied: pure-eval in c:\\users\\puttarajus\\desktop\\.venv\\lib\\site-packages (from stack_data->ipython>=7.23.1->ipykernel) (0.2.3)\n"
     ]
    }
   ],
   "source": [
    "!pip install ipykernel"
   ]
  },
  {
   "cell_type": "markdown",
   "id": "a6362b3b",
   "metadata": {},
   "source": [
    "\n",
    "## 0. Environment Setup (Run Once)\n",
    "If you are running locally and missing packages, uncomment the `pip` cell below.\n",
    "\n",
    "- Python ≥ 3.9\n",
    "- `torch`, `numpy`, `matplotlib`, `tqdm`, `nltk`, `pandas` (optional: `datasets` for WikiText-2)\n"
   ]
  },
  {
   "cell_type": "code",
   "execution_count": 3,
   "id": "495cae90",
   "metadata": {},
   "outputs": [
    {
     "name": "stdout",
     "output_type": "stream",
     "text": [
      "Note: you may need to restart the kernel to use updated packages.\n"
     ]
    }
   ],
   "source": [
    "# If needed, uncomment to install.\n",
    "%pip install torch numpy matplotlib tqdm nltk pandas datasets --quiet\n",
    "\n",
    "import math\n",
    "import os\n",
    "import random\n",
    "import time\n",
    "import json\n",
    "from dataclasses import dataclass\n",
    "from typing import List, Tuple, Dict, Optional\n",
    "\n",
    "import numpy as np\n",
    "import torch\n",
    "import torch.nn as nn\n",
    "import torch.nn.functional as F\n",
    "from torch.utils.data import Dataset, DataLoader\n",
    "from tqdm import tqdm\n",
    "\n",
    "import matplotlib.pyplot as plt\n",
    "import pandas as pd\n",
    "\n",
    "import nltk\n",
    "try:\n",
    "    nltk.data.find(\"tokenizers/punkt\")\n",
    "except LookupError:\n",
    "    nltk.download(\"punkt\")"
   ]
  },
  {
   "cell_type": "markdown",
   "id": "1fc66ae0",
   "metadata": {},
   "source": [
    "## 1. Config"
   ]
  },
  {
   "cell_type": "code",
   "execution_count": 4,
   "id": "c766860b",
   "metadata": {},
   "outputs": [
    {
     "data": {
      "text/plain": [
       "'cpu'"
      ]
     },
     "execution_count": 4,
     "metadata": {},
     "output_type": "execute_result"
    }
   ],
   "source": [
    "from dataclasses import dataclass\n",
    "@dataclass\n",
    "class Config:\n",
    "    seed: int = 42\n",
    "    device: str = \"cuda\" if torch.cuda.is_available() else \"cpu\"\n",
    "    # data\n",
    "    use_builtin_tiny_corpus: bool = True  # if False, tries tiny wikitext-2 via datasets\n",
    "    context_len: int = 64\n",
    "    train_frac: float = 0.9\n",
    "    # model\n",
    "    vocab_size: int = 0  # filled after building tokenizer\n",
    "    d_model: int = 128\n",
    "    n_heads: int = 4\n",
    "    n_layers: int = 2\n",
    "    dropout: float = 0.1\n",
    "    # optimization\n",
    "    batch_size: int = 64\n",
    "    lr: float = 3e-3\n",
    "    max_steps_pretrain: int = 1000\n",
    "    max_steps_sft: int = 1000\n",
    "    max_steps_rl: int = 200  # tiny on purpose\n",
    "    eval_every: int = 50\n",
    "    # generation\n",
    "    temperature: float = 0.7\n",
    "    top_k: Optional[int] = 50\n",
    "\n",
    "CFG = Config()\n",
    "random.seed(CFG.seed)\n",
    "np.random.seed(CFG.seed)\n",
    "torch.manual_seed(CFG.seed)\n",
    "if torch.cuda.is_available():\n",
    "    torch.cuda.manual_seed_all(CFG.seed)\n",
    "\n",
    "CFG.device"
   ]
  },
  {
   "cell_type": "markdown",
   "id": "51bc730b",
   "metadata": {},
   "source": [
    "## 2. Data: Tiny Corpus + Optional Synthetic\n",
    "We use a tiny **public-domain** text for **pre-training** and **validation**.  \n",
    "For **SFT**, we create a micro instruction-like dataset.\n",
    "\n",
    "You can switch to `datasets` (WikiText-2) by setting `CFG.use_builtin_tiny_corpus=False`.\n"
   ]
  },
  {
   "cell_type": "markdown",
   "id": "743f38e9",
   "metadata": {},
   "source": [
    "### Tried with WikiText : wikitext-103-raw-v1  , got this reference from Hugging Face"
   ]
  },
  {
   "cell_type": "code",
   "execution_count": 5,
   "id": "c4a58b0e",
   "metadata": {},
   "outputs": [
    {
     "name": "stderr",
     "output_type": "stream",
     "text": [
      "c:\\Users\\PuttarajuS\\Desktop\\.venv\\Lib\\site-packages\\tqdm\\auto.py:21: TqdmWarning: IProgress not found. Please update jupyter and ipywidgets. See https://ipywidgets.readthedocs.io/en/stable/user_install.html\n",
      "  from .autonotebook import tqdm as notebook_tqdm\n"
     ]
    },
    {
     "name": "stdout",
     "output_type": "stream",
     "text": [
      "= Valkyria Chronicles III = \n",
      "\n",
      "\n",
      " Senjō no Valkyria 3 : Unrecorded Chronicles ( Japanese : 戦場のヴァルキュリア3 , lit . Valkyria of the Battlefield 3 ) , commonly referred to as Valkyria Chronicles III outside Japan , is a tactical role @-@ playing video game developed by Sega and Media.Vision for the PlayStation Portable . Released in January 2011 in Japan , it is the third game in the Valkyria series . Employing the same fusion of tactical and real @-@ time gameplay as its predecessors , the story runs parallel to the first game and follows the \" Nameless \" , a penal military unit serving the nation of Gallia during the Second Europan War who perform secret black operations and are pitted against the Imperial unit \" Calamaty Raven \" . \n",
      "\n",
      " The game began development in 2010 , carrying over a large portion of the work done on Valkyria Chronicles II . While it retained the standard features of the series , it also underwent multiple adjustments , such as making the game more forgiving for series newcomers . Character designer Raita Honjou and composer Hitoshi Sakimoto both returned from previous entries , along with Valkyria Chronicles II director Takeshi Ozawa . A large team of writers handled the script . The game 's opening theme was sung by May 'n . \n",
      "\n",
      " It met with positive sales in Japan , and was praised by both Japanese and western critics . After release , it received downloadable content , along with an expanded edition in November of that year . It was also adapted into manga and an original video animation series . Due to low sales of Valkyria Chronicles II , Valkyria Chronicles III was not localized , but a fan translation compatible with the game 's expanded edition was released in 2014 . Media.Vision would return to the franchise with the development of Valkyria : Azure Revolution for the PlayStation 4 . \n",
      "\n",
      "\n",
      " = = Gameplay = = \n",
      "\n",
      "\n",
      " As with previous Valkyira Chronicles games , Valkyria Chronicles III is a tactical role @-@ playing game where players take control of a military unit and take part in missions against enemy forces . Stories are told through comic book @-@ like panels with animated character portraits , with characters speaking partially through voiced speech bubbles and partially through unvoiced text . The player progresses through a series of linear missions , gradually unlocked as maps that can be freely scanned through and replayed as they are unlocked . The route to each story location on the map varies depending on an individual player 's approach : when one option is selected , the other is sealed off to the player . Outside missions , the player characters rest in a camp , where units can be customized and character growth occurs . Alongside the main story missions are character @-@ specific sub missions relating to different squad members . After the game 's completion , additional episodes are unlocked , some of them having a higher difficulty than those found in the rest of the game . There are also love simulation elements related to the game 's two main heroines , although they take a very minor role . \n",
      "\n",
      " The game 's battle system , the BliTZ system , is carried over directly from Valkyira Chronicles . During missions , players select each unit using a top @-@ down perspective of the battlefield map : once a character is selected , the player moves the character around the battlefield in third @-@ person . A character can only act once per @-@ turn , but characters can be granted multiple turns at the expense of other characters ' turns . Each character has a field and distance of movement limited by their Action Gauge . Up to nine characters can be assigned to a single mission . During gameplay , characters will call out if something happens to them , such as their health points ( HP ) getting low or being knocked out by enemy attacks . Each character has specific \" Potentials \" , skills unique to each character . They are divided into \" Personal Potential \" , which are innate skills that remain unaltered unless otherwise dictated by the story and can either help or impede a character , and \" Battle Potentials \" , which are grown throughout the game and always grant boons to a character . To learn Battle Potentials , each character has a unique \" Masters Table \" , a grid @-@ based skill table that can be used to acquire and link different skills . Characters also have Special Abilities that grant them temporary boosts on the battlefield : Kurt can activate \" Direct Command \" and move around the battlefield without depleting his Action Point gauge , the character Reila can shift into her \" Valkyria Form \" and become invincible , while Imca can target multiple enemy units with her heavy weapon . \n",
      "\n",
      " Troops are divided into five classes : Scouts , Shocktroopers , Engineers , Lancers and Armored Soldier . Troopers can switch classes by changing their assigned weapon . Changing class does not greatly affect the stats gained while in a previous class . With victory in battle , experience poi ...\n"
     ]
    }
   ],
   "source": [
    "BUILTIN_TINY_TEXT = \"From fairest creatures we desire increase,\\nThat thereby beauty's rose might never die,\\nBut as the riper should by time decease,\\nHis tender heir might bear his memory:\\nBut thou contracted to thine own bright eyes,\\nFeed'st thy light'st flame with self-substantial fuel,\\nMaking a famine where abundance lies,\\nThy self thy foe, to thy sweet self too cruel:\"\n",
    "\n",
    "def load_corpus(use_builtin: bool = False) -> str:\n",
    "    \"\"\"Return a small training corpus.\"\"\"\n",
    "    if use_builtin:\n",
    "        return BUILTIN_TINY_TEXT.strip()\n",
    "    else:\n",
    "        try:\n",
    "            from datasets import load_dataset\n",
    "            ds = load_dataset(\"wikitext\", \"wikitext-2-raw-v1\")\n",
    "            # concatenate first N lines to keep it tiny\n",
    "            lines = ds['train']['text'][:200]\n",
    "            return \"\\n\".join([l for l in lines if l is not None]).strip()\n",
    "        except Exception as e:\n",
    "            print(\"Falling back to builtin tiny text due to:\", e)\n",
    "            return BUILTIN_TINY_TEXT.strip()\n",
    "\n",
    "#corpus_text = load_corpus(use_builtin = True)\n",
    "corpus_text = load_corpus(use_builtin = False)\n",
    "\n",
    "print(corpus_text[:5000], \"...\")"
   ]
  },
  {
   "cell_type": "markdown",
   "id": "327c4eeb",
   "metadata": {},
   "source": [
    "### 2.1 Character Tokenizer\n",
    "A simple **character-level** tokenizer"
   ]
  },
  {
   "cell_type": "code",
   "execution_count": 7,
   "id": "66252358",
   "metadata": {},
   "outputs": [
    {
     "name": "stdout",
     "output_type": "stream",
     "text": [
      "CFG.vocab_size: 46\n",
      "CFG.top_k: 46\n",
      "<__main__.CharTokenizer object at 0x000001C3DB45C3E0>\n",
      "cpu\n",
      "46 128 2 4 0.1 64\n",
      "1000\n",
      "1000\n"
     ]
    }
   ],
   "source": [
    "class CharTokenizer:\n",
    "    def __init__(self, text: str):\n",
    "        vocab = sorted(set(text))\n",
    "        self.stoi = {ch: i for i, ch in enumerate(vocab)}\n",
    "        self.itos = {i: ch for ch, i in self.stoi.items()}\n",
    "        self.vocab_size = len(vocab)\n",
    "\n",
    "    def encode(self, s: str) -> List[int]:\n",
    "        return [self.stoi[c] for c in s if c in self.stoi]\n",
    "\n",
    "    def decode(self, ids: List[int]) -> str:\n",
    "        return \"\".join(self.itos[i] for i in ids)\n",
    "\n",
    "tokenizer = CharTokenizer(corpus_text[:200])\n",
    "CFG.vocab_size = tokenizer.vocab_size\n",
    "print(f\"CFG.vocab_size: {CFG.vocab_size}\")\n",
    "\n",
    "# Update the top_k based on vocab size\n",
    "CFG.top_k = min(50, CFG.vocab_size) # ensure top_k is not greater than vocab_size\n",
    "print(f\"CFG.top_k: {CFG.top_k}\")\n",
    "print(tokenizer)\n",
    "print(CFG.device)\n",
    "print(CFG.vocab_size, CFG.d_model, CFG.n_layers, CFG.n_heads, CFG.dropout, CFG.context_len)\n",
    "print(CFG.max_steps_pretrain)\n",
    "print(CFG.max_steps_sft)\n",
    "#print(corpus_text)"
   ]
  },
  {
   "cell_type": "markdown",
   "id": "d693f344",
   "metadata": {},
   "source": [
    "### 2.2 Dataset & DataLoader\n",
    "We build tiny (input, target) pairs for next-char prediction."
   ]
  },
  {
   "cell_type": "code",
   "execution_count": 9,
   "id": "1a68ab8a",
   "metadata": {},
   "outputs": [
    {
     "name": "stdout",
     "output_type": "stream",
     "text": [
      "<__main__.LMDataset object at 0x000001C3DB45C680> <__main__.LMDataset object at 0x000001C3DA46BB00>\n",
      "<torch.utils.data.dataloader.DataLoader object at 0x000001C3DA640260> <torch.utils.data.dataloader.DataLoader object at 0x000001C3DB40F3B0>\n"
     ]
    }
   ],
   "source": [
    "class LMDataset(Dataset):\n",
    "    def __init__(self, text: str, tokenizer: CharTokenizer, context_len: int = 64, split: str = \"train\", train_frac: float = 0.9):\n",
    "        enc = tokenizer.encode(text)\n",
    "        n = int(len(enc) * train_frac)\n",
    "        if split == \"train\":\n",
    "            self.data = enc[:n]\n",
    "        else:\n",
    "            self.data = enc[n:]\n",
    "        self.context_len = context_len\n",
    "\n",
    "    def __len__(self):\n",
    "        return max(0, len(self.data) - self.context_len - 1)\n",
    "\n",
    "    def __getitem__(self, idx):\n",
    "        x = self.data[idx:idx+self.context_len]\n",
    "        y = self.data[idx+1:idx+self.context_len+1]\n",
    "        return torch.tensor(x, dtype=torch.long), torch.tensor(y, dtype=torch.long)\n",
    "\n",
    "train_ds = LMDataset(corpus_text, tokenizer, CFG.context_len, \"train\", CFG.train_frac)\n",
    "val_ds = LMDataset(corpus_text, tokenizer, CFG.context_len, \"val\", CFG.train_frac)\n",
    "\n",
    "train_loader = DataLoader(train_ds, batch_size=CFG.batch_size, shuffle=True, drop_last=True)\n",
    "val_loader = DataLoader(val_ds, batch_size=CFG.batch_size, shuffle=False, drop_last=True)\n",
    "\n",
    "len(train_ds), len(val_ds)\n",
    "print(train_ds, val_ds)\n",
    "print(train_loader, val_loader)\n"
   ]
  },
  {
   "cell_type": "markdown",
   "id": "4a7123d8",
   "metadata": {},
   "source": [
    "## 3. Model: Tiny GPT-like (Character-level)\n",
    "Small causal self-attention stack for quick experiments."
   ]
  },
  {
   "cell_type": "code",
   "execution_count": 11,
   "id": "3fac1bd7",
   "metadata": {},
   "outputs": [
    {
     "name": "stdout",
     "output_type": "stream",
     "text": [
      "46\n",
      "128 4 2\n",
      "1000\n",
      "<class 'torch.nn.modules.module.Module'>\n"
     ]
    }
   ],
   "source": [
    "import math\n",
    "import torch\n",
    "import torch.nn as nn\n",
    "import torch.nn.functional as F\n",
    "\n",
    "class CausalSelfAttention(nn.Module):\n",
    "    def __init__(self, d_model, n_heads, dropout, context_len):\n",
    "        super().__init__()\n",
    "        assert d_model % n_heads == 0\n",
    "        self.n_heads = n_heads\n",
    "        self.head_dim = d_model // n_heads\n",
    "        self.qkv = nn.Linear(d_model, 3 * d_model)\n",
    "        self.proj = nn.Linear(d_model, d_model)\n",
    "        self.attn_drop = nn.Dropout(dropout)\n",
    "        self.resid_drop = nn.Dropout(dropout)\n",
    "        self.register_buffer(\"mask\", torch.tril(torch.ones(context_len, context_len)).unsqueeze(0).unsqueeze(0))\n",
    "\n",
    "    def forward(self, x):\n",
    "        B, T, C = x.shape\n",
    "        qkv = self.qkv(x)\n",
    "        q, k, v = qkv.split(C, dim=2)\n",
    "        q = q.view(B, T, self.n_heads, self.head_dim).transpose(1, 2)  # (B, nh, T, hs)\n",
    "        k = k.view(B, T, self.n_heads, self.head_dim).transpose(1, 2)\n",
    "        v = v.view(B, T, self.n_heads, self.head_dim).transpose(1, 2)\n",
    "\n",
    "        att = (q @ k.transpose(-2, -1)) / math.sqrt(self.head_dim)\n",
    "        att = att.masked_fill(self.mask[:, :, :T, :T] == 0, float('-inf'))\n",
    "        att = F.softmax(att, dim=-1)\n",
    "        att = self.attn_drop(att)\n",
    "        y = att @ v  # (B, nh, T, hs)\n",
    "        y = y.transpose(1, 2).contiguous().view(B, T, C)\n",
    "        y = self.resid_drop(self.proj(y))\n",
    "        return y\n",
    "\n",
    "class Block(nn.Module):\n",
    "    def __init__(self, d_model, n_heads, dropout, context_len):\n",
    "        super().__init__()\n",
    "        self.ln1 = nn.LayerNorm(d_model)\n",
    "        self.attn = CausalSelfAttention(d_model, n_heads, dropout, context_len)\n",
    "        self.ln2 = nn.LayerNorm(d_model)\n",
    "        self.mlp = nn.Sequential(\n",
    "            nn.Linear(d_model, 4*d_model),\n",
    "            nn.GELU(),\n",
    "            nn.Linear(4*d_model, d_model),\n",
    "            nn.Dropout(dropout),\n",
    "        )\n",
    "\n",
    "    def forward(self, x):\n",
    "        x = x + self.attn(self.ln1(x))\n",
    "        x = x + self.mlp(self.ln2(x))\n",
    "        return x\n",
    "\n",
    "class TinyGPT(nn.Module):\n",
    "    def __init__(self, vocab_size, d_model, n_layers, n_heads, dropout, context_len):\n",
    "        super().__init__()\n",
    "        self.tok_emb = nn.Embedding(vocab_size, d_model)\n",
    "        self.pos_emb = nn.Parameter(torch.zeros(1, context_len, d_model))\n",
    "        self.blocks = nn.ModuleList([Block(d_model, n_heads, dropout, context_len) for _ in range(n_layers)])\n",
    "        self.ln_f = nn.LayerNorm(d_model)\n",
    "        self.head = nn.Linear(d_model, vocab_size)\n",
    "\n",
    "        # init\n",
    "        self.apply(self._init_weights)\n",
    "\n",
    "    def _init_weights(self, module):\n",
    "        if isinstance(module, nn.Linear):\n",
    "            nn.init.normal_(module.weight, mean=0.0, std=0.02)\n",
    "            if module.bias is not None:\n",
    "                nn.init.zeros_(module.bias)\n",
    "        elif isinstance(module, nn.Embedding):\n",
    "            nn.init.normal_(module.weight, mean=0.0, std=0.02)\n",
    "\n",
    "    def forward(self, idx, targets=None):\n",
    "        B, T = idx.shape\n",
    "        x = self.tok_emb(idx) + self.pos_emb[:, :T, :]\n",
    "        for blk in self.blocks:\n",
    "            x = blk(x)\n",
    "        x = self.ln_f(x)\n",
    "        logits = self.head(x)  # (B, T, V)\n",
    "\n",
    "        loss = None\n",
    "        if targets is not None:\n",
    "            loss = F.cross_entropy(logits.view(-1, logits.size(-1)), targets.view(-1))\n",
    "        return logits, loss\n",
    "\n",
    "    @torch.no_grad()\n",
    "    def generate(self, idx, max_new_tokens=128, temperature=1.0, top_k=None):\n",
    "        for _ in range(max_new_tokens):\n",
    "            idx_cond = idx[:, -CFG.context_len:]\n",
    "            logits, _ = self.forward(idx_cond)\n",
    "            logits = logits[:, -1, :] / max(temperature, 1e-8)\n",
    "            if top_k is not None:\n",
    "                v, ix = torch.topk(logits, top_k)\n",
    "                mask = logits < v[:, [-1]]\n",
    "                logits[mask] = -float('Inf')\n",
    "            probs = F.softmax(logits, dim=-1)\n",
    "            next_id = torch.multinomial(probs, num_samples=1)\n",
    "            idx = torch.cat((idx, next_id), dim=1)\n",
    "        return idx\n",
    "\n",
    "print(CFG.vocab_size)    \n",
    "print(CFG.d_model, CFG.n_heads, CFG.n_layers)\n",
    "print(CFG.max_steps_sft)\n",
    "print(nn.Module)\n",
    "\n"
   ]
  },
  {
   "cell_type": "markdown",
   "id": "e835a544",
   "metadata": {},
   "source": [
    "## 4. Utilities: Evaluation & Plotting"
   ]
  },
  {
   "cell_type": "code",
   "execution_count": 15,
   "id": "496fb854",
   "metadata": {},
   "outputs": [],
   "source": [
    "def eval_loss(model, loader):\n",
    "    model.eval()\n",
    "    losses = []\n",
    "    with torch.no_grad():\n",
    "        for x, y in loader:\n",
    "            x, y = x.to(CFG.device), y.to(CFG.device)\n",
    "            _, loss = model(x, y)\n",
    "            losses.append(loss.item())\n",
    "    model.train()\n",
    "    return float(np.mean(losses)) if losses else float('nan')\n",
    "\n",
    "def perplexity(loss_val: float) -> float:\n",
    "    try:\n",
    "        return float(math.exp(loss_val))\n",
    "    except OverflowError:\n",
    "        return float('inf')\n",
    "\n",
    "def sample_text(model, prompt: str, max_new_tokens=128):\n",
    "    model.eval()\n",
    "    inp = torch.tensor([tokenizer.encode(prompt)], dtype=torch.long, device=CFG.device)\n",
    "    out = model.generate(inp, max_new_tokens=max_new_tokens, temperature=CFG.temperature, top_k=CFG.top_k)\n",
    "    return tokenizer.decode(out[0].tolist())\n",
    "\n",
    "def plot_losses(train_losses, val_losses, title=\"Training Curves\"):\n",
    "    plt.figure()\n",
    "    xs = list(range(len(train_losses)))\n",
    "    plt.plot(xs, train_losses, label=\"train\")\n",
    "    if val_losses:\n",
    "        plt.plot(xs, val_losses, label=\"val\")\n",
    "    plt.title(title)\n",
    "    plt.xlabel(\"Eval step (x{} steps)\".format(CFG.eval_every))\n",
    "    plt.ylabel(\"Loss\")\n",
    "    plt.legend()\n",
    "    plt.show()\n"
   ]
  },
  {
   "cell_type": "markdown",
   "id": "44540685",
   "metadata": {},
   "source": [
    "## 5. Pre-training (Unsupervised LM)\n",
    "Train the tiny GPT on the tiny corpus with next-character prediction."
   ]
  },
  {
   "cell_type": "code",
   "execution_count": 16,
   "id": "bb48b35e",
   "metadata": {},
   "outputs": [
    {
     "name": "stderr",
     "output_type": "stream",
     "text": [
      "Pre-training:   0%|          | 0/1000 [04:15<?, ?it/s, loss=1.53, val_loss=1.91]"
     ]
    },
    {
     "name": "stdout",
     "output_type": "stream",
     "text": [
      "Pre-train done. Train loss ~ 1.5341171026229858  Val loss ~ 1.907128948669929  PPL ~ 6.7337281399754785\n"
     ]
    },
    {
     "name": "stderr",
     "output_type": "stream",
     "text": [
      "\n"
     ]
    },
    {
     "data": {
      "image/png": "[encoded data removed]",
      "text/plain": [
       "<Figure size 640x480 with 1 Axes>"
      ]
     },
     "metadata": {},
     "output_type": "display_data"
    },
    {
     "name": "stdout",
     "output_type": "stream",
     "text": [
      "o eameless and the Camden the city en the amelesse teen ame , aaf the surrender . \n",
      "\n",
      " he park sechanin caused , e sere the f\n"
     ]
    }
   ],
   "source": [
    "model_pre = TinyGPT(CFG.vocab_size, CFG.d_model, CFG.n_layers, CFG.n_heads, CFG.dropout, CFG.context_len).to(CFG.device)\n",
    "opt = torch.optim.AdamW(model_pre.parameters(), lr=CFG.lr)\n",
    "\n",
    "train_losses_pre, val_losses_pre = [], []\n",
    "step = 0\n",
    "CFG.max_steps_pretrain = 1000\n",
    "pbar = tqdm(total=CFG.max_steps_pretrain, desc=\"Pre-training\")\n",
    "\n",
    "while step < CFG.max_steps_pretrain:\n",
    "    for x, y in train_loader:\n",
    "        x, y = x.to(CFG.device), y.to(CFG.device)\n",
    "        _, loss = model_pre(x, y)\n",
    "        opt.zero_grad(set_to_none=True)\n",
    "        loss.backward()\n",
    "        opt.step()\n",
    "        step += 1\n",
    "\n",
    "        if step % CFG.eval_every == 0 or step == 1:\n",
    "            vl = eval_loss(model_pre, val_loader)\n",
    "            train_losses_pre.append(loss.item())\n",
    "            val_losses_pre.append(vl)\n",
    "            pbar.set_postfix(loss=loss.item(), val_loss=vl)\n",
    "\n",
    "        if step >= CFG.max_steps_pretrain:\n",
    "            break\n",
    "pbar.close()\n",
    "\n",
    "pt_train_last = train_losses_pre[-1] if train_losses_pre else float('nan')\n",
    "pt_val_last = val_losses_pre[-1] if val_losses_pre else float('nan')\n",
    "print(\"Pre-train done. Train loss ~\", pt_train_last, \" Val loss ~\", pt_val_last, \" PPL ~\", perplexity(pt_val_last))\n",
    "plot_losses(train_losses_pre, val_losses_pre, title=\"Pre-training Curves\")\n",
    "print(sample_text(model_pre, prompt=\"To be\", max_new_tokens=120))\n"
   ]
  },
  {
   "cell_type": "markdown",
   "id": "823756a7",
   "metadata": {},
   "source": [
    "#### zero_grad(set_to_none=False) "
   ]
  },
  {
   "cell_type": "code",
   "execution_count": 17,
   "id": "492f1527",
   "metadata": {},
   "outputs": [
    {
     "name": "stderr",
     "output_type": "stream",
     "text": [
      "Pre-training:   0%|          | 0/1000 [05:05<?, ?it/s, loss=1.53, val_loss=1.9] "
     ]
    },
    {
     "name": "stdout",
     "output_type": "stream",
     "text": [
      "Pre-train done. Train loss ~ 1.526641607284546  Val loss ~ 1.8990268428604324  PPL ~ 6.679391181229065\n"
     ]
    },
    {
     "name": "stderr",
     "output_type": "stream",
     "text": [
      "\n"
     ]
    },
    {
     "data": {
      "image/png": "[encoded data removed]",
      "text/plain": [
       "<Figure size 640x480 with 1 Axes>"
      ]
     },
     "metadata": {},
     "output_type": "display_data"
    },
    {
     "name": "stdout",
     "output_type": "stream",
     "text": [
      "o ere the ork seer , and and ith pulayin orlation armed ake in a ame Japanese in theme he cou uilder , and it the ame s yim\n"
     ]
    }
   ],
   "source": [
    "model_pre = TinyGPT(CFG.vocab_size, CFG.d_model, CFG.n_layers, CFG.n_heads, CFG.dropout, CFG.context_len).to(CFG.device)\n",
    "opt = torch.optim.AdamW(model_pre.parameters(), lr=CFG.lr)\n",
    "\n",
    "train_losses_pre, val_losses_pre = [], []\n",
    "step = 0\n",
    "pbar = tqdm(total=CFG.max_steps_pretrain, desc=\"Pre-training\")\n",
    "\n",
    "while step < CFG.max_steps_pretrain:\n",
    "    for x, y in train_loader:\n",
    "        x, y = x.to(CFG.device), y.to(CFG.device)\n",
    "        _, loss = model_pre(x, y)\n",
    "        opt.zero_grad(set_to_none=False)\n",
    "        loss.backward()\n",
    "        opt.step()\n",
    "        step += 1\n",
    "\n",
    "        if step % CFG.eval_every == 0 or step == 1:\n",
    "            vl = eval_loss(model_pre, val_loader)\n",
    "            train_losses_pre.append(loss.item())\n",
    "            val_losses_pre.append(vl)\n",
    "            pbar.set_postfix(loss=loss.item(), val_loss=vl)\n",
    "\n",
    "        if step >= CFG.max_steps_pretrain:\n",
    "            break\n",
    "pbar.close()\n",
    "\n",
    "pt_train_last = train_losses_pre[-1] if train_losses_pre else float('nan')\n",
    "pt_val_last = val_losses_pre[-1] if val_losses_pre else float('nan')\n",
    "print(\"Pre-train done. Train loss ~\", pt_train_last, \" Val loss ~\", pt_val_last, \" PPL ~\", perplexity(pt_val_last))\n",
    "plot_losses(train_losses_pre, val_losses_pre, title=\"Pre-training Curves\")\n",
    "print(sample_text(model_pre, prompt=\"To be\", max_new_tokens=120))"
   ]
  },
  {
   "cell_type": "code",
   "execution_count": 17,
   "id": "c4cd70f7",
   "metadata": {},
   "outputs": [
    {
     "name": "stderr",
     "output_type": "stream",
     "text": [
      "Pre-training:   0%|          | 0/1000 [03:31<?, ?it/s, loss=1.54, val_loss=1.98]"
     ]
    },
    {
     "name": "stdout",
     "output_type": "stream",
     "text": [
      "Pre-train done. Train loss ~ 1.541245698928833  Val loss ~ 1.9787423105800852  PPL ~ 7.23363958975942\n"
     ]
    },
    {
     "name": "stderr",
     "output_type": "stream",
     "text": [
      "\n"
     ]
    },
    {
     "data": {
      "image/png": "[encoded data removed]",
      "text/plain": [
       "<Figure size 640x480 with 1 Axes>"
      ]
     },
     "metadata": {},
     "output_type": "display_data"
    },
    {
     "name": "stdout",
     "output_type": "stream",
     "text": [
      "To befor boxis , \" Work Potention ho , and \" Elachy Ellet . \n",
      "\n",
      " Lthe exervies alone paymer , what a the Calaydelen Portently m\n"
     ]
    }
   ],
   "source": [
    "model_pre = TinyGPT(CFG.vocab_size, CFG.d_model, CFG.n_layers, CFG.n_heads, CFG.dropout, CFG.context_len).to(CFG.device)\n",
    "opt = torch.optim.AdamW(model_pre.parameters(), lr=CFG.lr)\n",
    "\n",
    "train_losses_pre, val_losses_pre = [], []\n",
    "step = 0\n",
    "pbar = tqdm(total=CFG.max_steps_pretrain, desc=\"Pre-training\")\n",
    "\n",
    "while step < CFG.max_steps_pretrain:\n",
    "    for x, y in train_loader:\n",
    "        x, y = x.to(CFG.device), y.to(CFG.device)\n",
    "        _, loss = model_pre(x, y)\n",
    "        opt.zero_grad(set_to_none=False)\n",
    "        loss.backward()\n",
    "        opt.step(closure=None)\n",
    "        step += 1\n",
    "\n",
    "        if step % CFG.eval_every == 0 or step == 1:\n",
    "            vl = eval_loss(model_pre, val_loader)\n",
    "            train_losses_pre.append(loss.item())\n",
    "            val_losses_pre.append(vl)\n",
    "            pbar.set_postfix(loss=loss.item(), val_loss=vl)\n",
    "\n",
    "        if step >= CFG.max_steps_pretrain:\n",
    "            break\n",
    "pbar.close()\n",
    "\n",
    "pt_train_last = train_losses_pre[-1] if train_losses_pre else float('nan')\n",
    "pt_val_last = val_losses_pre[-1] if val_losses_pre else float('nan')\n",
    "print(\"Pre-train done. Train loss ~\", pt_train_last, \" Val loss ~\", pt_val_last, \" PPL ~\", perplexity(pt_val_last))\n",
    "plot_losses(train_losses_pre, val_losses_pre, title=\"Pre-training Curves\")\n",
    "print(sample_text(model_pre, prompt=\"To be\", max_new_tokens=120))"
   ]
  },
  {
   "cell_type": "code",
   "execution_count": 18,
   "id": "d86d4edf",
   "metadata": {},
   "outputs": [
    {
     "name": "stderr",
     "output_type": "stream",
     "text": [
      "Pre-training:   0%|          | 0/500 [01:26<?, ?it/s, loss=1.94, val_loss=2.07]"
     ]
    },
    {
     "name": "stdout",
     "output_type": "stream",
     "text": [
      "Pre-train done. Train loss ~ 1.9438457489013672  Val loss ~ 2.074844764424609  PPL ~ 7.963310174042665\n"
     ]
    },
    {
     "name": "stderr",
     "output_type": "stream",
     "text": [
      "\n"
     ]
    },
    {
     "data": {
      "image/png": "[encoded data removed]",
      "text/plain": [
       "<Figure size 640x480 with 1 Axes>"
      ]
     },
     "metadata": {},
     "output_type": "display_data"
    },
    {
     "name": "stdout",
     "output_type": "stream",
     "text": [
      "o ead of arate of sumild houht and that ajut to at unnt  for Conil andl ue in . he ado enoer for S aposeraly of the sith of\n"
     ]
    }
   ],
   "source": [
    "model_pre = TinyGPT(CFG.vocab_size, CFG.d_model, CFG.n_layers, CFG.n_heads, CFG.dropout, CFG.context_len).to(CFG.device)\n",
    "opt = torch.optim.AdamW(model_pre.parameters(), lr=CFG.lr)\n",
    "\n",
    "train_losses_pre, val_losses_pre = [], []\n",
    "step = 0\n",
    "CFG.max_steps_pretrain = 500\n",
    "pbar = tqdm(total=CFG.max_steps_pretrain, desc=\"Pre-training\")\n",
    "\n",
    "while step < CFG.max_steps_pretrain:\n",
    "    for x, y in train_loader:\n",
    "        x, y = x.to(CFG.device), y.to(CFG.device)\n",
    "        _, loss = model_pre(x, y)\n",
    "        opt.zero_grad(set_to_none=True)\n",
    "        loss.backward()\n",
    "        opt.step()\n",
    "        step += 1\n",
    "\n",
    "        if step % CFG.eval_every == 0 or step == 1:\n",
    "            vl = eval_loss(model_pre, val_loader)\n",
    "            train_losses_pre.append(loss.item())\n",
    "            val_losses_pre.append(vl)\n",
    "            pbar.set_postfix(loss=loss.item(), val_loss=vl)\n",
    "\n",
    "        if step >= CFG.max_steps_pretrain:\n",
    "            break\n",
    "pbar.close()\n",
    "\n",
    "pt_train_last = train_losses_pre[-1] if train_losses_pre else float('nan')\n",
    "pt_val_last = val_losses_pre[-1] if val_losses_pre else float('nan')\n",
    "print(\"Pre-train done. Train loss ~\", pt_train_last, \" Val loss ~\", pt_val_last, \" PPL ~\", perplexity(pt_val_last))\n",
    "plot_losses(train_losses_pre, val_losses_pre, title=\"Pre-training Curves\")\n",
    "print(sample_text(model_pre, prompt=\"To be\", max_new_tokens=120))\n"
   ]
  },
  {
   "cell_type": "code",
   "execution_count": 19,
   "id": "a9234a0f",
   "metadata": {},
   "outputs": [
    {
     "name": "stderr",
     "output_type": "stream",
     "text": [
      "Pre-training:   0%|          | 0/100 [00:29<?, ?it/s, loss=2.7, val_loss=2.74] \n"
     ]
    },
    {
     "name": "stdout",
     "output_type": "stream",
     "text": [
      "Pre-train done. Train loss ~ 2.703731060028076  Val loss ~ 2.7383178240293033  PPL ~ 15.460955161755683\n"
     ]
    },
    {
     "data": {
      "image/png": "[encoded data removed]",
      "text/plain": [
       "<Figure size 640x480 with 1 Axes>"
      ]
     },
     "metadata": {},
     "output_type": "display_data"
    },
    {
     "name": "stdout",
     "output_type": "stream",
     "text": [
      "o e lte it ltoe tooae optop atee .e s . ss ne aa  n octrre rthe ce yyle td oc, he p\n",
      " ,iae e a otk fcly in hoae reydtoiald f\n"
     ]
    }
   ],
   "source": [
    "model_pre = TinyGPT(CFG.vocab_size, CFG.d_model, CFG.n_layers, CFG.n_heads, CFG.dropout, CFG.context_len).to(CFG.device)\n",
    "opt = torch.optim.AdamW(model_pre.parameters(), lr=CFG.lr)\n",
    "\n",
    "train_losses_pre, val_losses_pre = [], []\n",
    "step = 0\n",
    "CFG.max_steps_pretrain = 100\n",
    "pbar = tqdm(total=CFG.max_steps_pretrain, desc=\"Pre-training\")\n",
    "\n",
    "while step < CFG.max_steps_pretrain:\n",
    "    for x, y in train_loader:\n",
    "        x, y = x.to(CFG.device), y.to(CFG.device)\n",
    "        _, loss = model_pre(x, y)\n",
    "        opt.zero_grad(set_to_none=False)\n",
    "        loss.backward()\n",
    "        opt.step()\n",
    "        step += 1\n",
    "\n",
    "        if step % CFG.eval_every == 0 or step == 1:\n",
    "            vl = eval_loss(model_pre, val_loader)\n",
    "            train_losses_pre.append(loss.item())\n",
    "            val_losses_pre.append(vl)\n",
    "            pbar.set_postfix(loss=loss.item(), val_loss=vl)\n",
    "\n",
    "        if step >= CFG.max_steps_pretrain:\n",
    "            break\n",
    "pbar.close()\n",
    "\n",
    "pt_train_last = train_losses_pre[-1] if train_losses_pre else float('nan')\n",
    "pt_val_last = val_losses_pre[-1] if val_losses_pre else float('nan')\n",
    "print(\"Pre-train done. Train loss ~\", pt_train_last, \" Val loss ~\", pt_val_last, \" PPL ~\", perplexity(pt_val_last))\n",
    "plot_losses(train_losses_pre, val_losses_pre, title=\"Pre-training Curves\")\n",
    "print(sample_text(model_pre, prompt=\"To be\", max_new_tokens=120))"
   ]
  },
  {
   "cell_type": "code",
   "execution_count": 20,
   "id": "79675520",
   "metadata": {},
   "outputs": [
    {
     "name": "stderr",
     "output_type": "stream",
     "text": [
      "Pre-training:   0%|          | 0/250 [00:42<?, ?it/s, loss=2.25, val_loss=2.28]"
     ]
    },
    {
     "name": "stdout",
     "output_type": "stream",
     "text": [
      "Pre-train done. Train loss ~ 2.251474618911743  Val loss ~ 2.2797663831091546  PPL ~ 9.774396678618286\n"
     ]
    },
    {
     "name": "stderr",
     "output_type": "stream",
     "text": [
      "\n"
     ]
    },
    {
     "data": {
      "image/png": "[encoded data removed]",
      "text/plain": [
       "<Figure size 640x480 with 1 Axes>"
      ]
     },
     "metadata": {},
     "output_type": "display_data"
    },
    {
     "name": "stdout",
     "output_type": "stream",
     "text": [
      "o ethare chund aly ad id atath and . Be  in pat in in an therin he , as \n",
      "Sins ans tacry denantesis tos orm iath ary dela ul\n"
     ]
    }
   ],
   "source": [
    "model_pre = TinyGPT(CFG.vocab_size, CFG.d_model, CFG.n_layers, CFG.n_heads, CFG.dropout, CFG.context_len).to(CFG.device)\n",
    "opt = torch.optim.AdamW(model_pre.parameters(), lr=CFG.lr)\n",
    "\n",
    "train_losses_pre, val_losses_pre = [], []\n",
    "step = 0\n",
    "CFG.max_steps_pretrain = 250\n",
    "pbar = tqdm(total=CFG.max_steps_pretrain, desc=\"Pre-training\")\n",
    "\n",
    "while step < CFG.max_steps_pretrain:\n",
    "    for x, y in train_loader:\n",
    "        x, y = x.to(CFG.device), y.to(CFG.device)\n",
    "        _, loss = model_pre(x, y)\n",
    "        opt.zero_grad(set_to_none=False)\n",
    "        loss.backward()\n",
    "        opt.step()\n",
    "        step += 1\n",
    "\n",
    "        if step % CFG.eval_every == 0 or step == 1:\n",
    "            vl = eval_loss(model_pre, val_loader)\n",
    "            train_losses_pre.append(loss.item())\n",
    "            val_losses_pre.append(vl)\n",
    "            pbar.set_postfix(loss=loss.item(), val_loss=vl)\n",
    "\n",
    "        if step >= CFG.max_steps_pretrain:\n",
    "            break\n",
    "pbar.close()\n",
    "\n",
    "pt_train_last = train_losses_pre[-1] if train_losses_pre else float('nan')\n",
    "pt_val_last = val_losses_pre[-1] if val_losses_pre else float('nan')\n",
    "print(\"Pre-train done. Train loss ~\", pt_train_last, \" Val loss ~\", pt_val_last, \" PPL ~\", perplexity(pt_val_last))\n",
    "plot_losses(train_losses_pre, val_losses_pre, title=\"Pre-training Curves\")\n",
    "print(sample_text(model_pre, prompt=\"To be\", max_new_tokens=120))"
   ]
  },
  {
   "cell_type": "code",
   "execution_count": 145,
   "id": "6da3b790",
   "metadata": {},
   "outputs": [
    {
     "name": "stderr",
     "output_type": "stream",
     "text": [
      "\n",
      "\u001b[A\n",
      "\u001b[A\n",
      "\u001b[A\n",
      "\u001b[A\n",
      "\u001b[A\n",
      "\u001b[A\n",
      "\u001b[A\n",
      "\u001b[A\n",
      "\u001b[A\n",
      "Pre-training:   0%|          | 0/400 [01:01<?, ?it/s, loss=2.14, val_loss=2.19]"
     ]
    },
    {
     "name": "stdout",
     "output_type": "stream",
     "text": [
      "Pre-train done. Train loss ~ 2.142359733581543  Val loss ~ 2.191261641390912  PPL ~ 8.946493263656027\n"
     ]
    },
    {
     "name": "stderr",
     "output_type": "stream",
     "text": [
      "\n"
     ]
    },
    {
     "data": {
      "image/png": "[encoded data removed]",
      "text/plain": [
       "<Figure size 640x480 with 1 Axes>"
      ]
     },
     "metadata": {},
     "output_type": "display_data"
    },
    {
     "name": "stdout",
     "output_type": "stream",
     "text": [
      "o eder .  euil Carile the enad e imich ile and , der , piitay of reposy of ocontin alil plicien 3 n cece orde mile intis po\n"
     ]
    }
   ],
   "source": [
    "model_pre = TinyGPT(CFG.vocab_size, CFG.d_model, CFG.n_layers, CFG.n_heads, CFG.dropout, CFG.context_len).to(CFG.device)\n",
    "opt = torch.optim.AdamW(model_pre.parameters(), lr=CFG.lr)\n",
    "\n",
    "train_losses_pre, val_losses_pre = [], []\n",
    "step = 0\n",
    "CFG.max_steps_pretrain = 400\n",
    "pbar = tqdm(total=CFG.max_steps_pretrain, desc=\"Pre-training\")\n",
    "\n",
    "while step < CFG.max_steps_pretrain:\n",
    "    for x, y in train_loader:\n",
    "        x, y = x.to(CFG.device), y.to(CFG.device)\n",
    "        _, loss = model_pre(x, y)\n",
    "        opt.zero_grad(set_to_none=False)\n",
    "        loss.backward()\n",
    "        opt.step()\n",
    "        step += 1\n",
    "\n",
    "        if step % CFG.eval_every == 0 or step == 1:\n",
    "            vl = eval_loss(model_pre, val_loader)\n",
    "            train_losses_pre.append(loss.item())\n",
    "            val_losses_pre.append(vl)\n",
    "            pbar.set_postfix(loss=loss.item(), val_loss=vl)\n",
    "\n",
    "        if step >= CFG.max_steps_pretrain:\n",
    "            break\n",
    "pbar.close()\n",
    "\n",
    "pt_train_last = train_losses_pre[-1] if train_losses_pre else float('nan')\n",
    "pt_val_last = val_losses_pre[-1] if val_losses_pre else float('nan')\n",
    "print(\"Pre-train done. Train loss ~\", pt_train_last, \" Val loss ~\", pt_val_last, \" PPL ~\", perplexity(pt_val_last))\n",
    "plot_losses(train_losses_pre, val_losses_pre, title=\"Pre-training Curves\")\n",
    "print(sample_text(model_pre, prompt=\"To be\", max_new_tokens=120))"
   ]
  },
  {
   "cell_type": "markdown",
   "id": "c1fd342c",
   "metadata": {},
   "source": [
    "## 6. Supervised Fine-Tuning (SFT)\n",
    "We create a **tiny instruction-like dataset** of (prompt → completion).  \n",
    "We then **continue training** the pre-trained model on these pairs (next-token loss)."
   ]
  },
  {
   "cell_type": "code",
   "execution_count": 21,
   "id": "fc990a73",
   "metadata": {},
   "outputs": [
    {
     "name": "stdout",
     "output_type": "stream",
     "text": [
      "Instruction: Define overfitting in one sentence:\n",
      "Answer: When a model memorizes training data but fails to generalize.\n",
      "\n",
      "Instruction: Give a positive morning affirmation:\n",
      "Answer: Today I choose growth and gratitude.\n",
      "\n",
      "Instruction: Summarize: 'Data is the new oil'.\n",
      "Answer: Data fuels innovation like oil powered industries.\n",
      "\n",
      "Instruction: Write a short motto about teamwork:\n",
      "Answer: Together everyone achieves more.\n",
      "\n",
      "Instruction: Explain: What is gradient descent?\n",
      "Answer: An algorithm to minimize loss by updating weights step by step.\n",
      "\n",
      "Instruction: Give a fun tagline for a library:\n",
      "Answer: Unlock worlds, one page at a time.\n",
      "\n",
      "Instruction: Summarize the role of attention in transformers.\n",
      "Answer: Attention lets the model focus on relevant parts of input.\n",
      "\n",
      "Instruction: Create a motto about perseverance:\n",
      "Answer: Keep going, keep growing.\n",
      "\n",
      "Instruction: Explain dropout in deep learning (short):\n",
      "Answer: A regularization technique that randomly ignores neurons during training.\n",
      "\n",
      "Instruction: Write a short motto about creativity:\n",
      "Answer: Imagine more. Create more.\n",
      "\n",
      "Instruction: Summarize: 'Cloud computing advantage'.\n",
      "Answer: It offers scalability, flexibility, and lower upfront costs.\n",
      "\n",
      "\n",
      "1000\n"
     ]
    },
    {
     "name": "stderr",
     "output_type": "stream",
     "text": [
      "SFT:   0%|          | 0/1000 [04:31<?, ?it/s, loss=0.108, val_loss=0.501]"
     ]
    },
    {
     "name": "stdout",
     "output_type": "stream",
     "text": [
      "SFT done. Train loss ~ 0.10794267803430557  Val loss ~ 0.501333628914186  PPL ~ 1.6509215198900289\n"
     ]
    },
    {
     "name": "stderr",
     "output_type": "stream",
     "text": [
      "\n"
     ]
    },
    {
     "data": {
      "image/png": "[encoded data removed]",
      "text/plain": [
       "<Figure size 640x480 with 1 Axes>"
      ]
     },
     "metadata": {},
     "output_type": "display_data"
    },
    {
     "name": "stdout",
     "output_type": "stream",
     "text": [
      "Sample before SFT (pretrained):\n",
      "Instruction: Summarie the role of attention in transformers.\n",
      "nser: i cren he mee the as den s arin  aes hert  elop  he is hia in colatrin the tla ryer sioit th rancas srenptun alltont at\n",
      "\n",
      "Sample after SFT:\n",
      "Instruction: Summarie the role of attention in transformers.\n",
      "nser: ttention lets the model focus on releant parts of input.\n",
      "\n",
      "Instruction: Create a motto aout perseerance:\n",
      "nser: eep oin, \n"
     ]
    }
   ],
   "source": [
    "SFT_PAIRS = [\n",
    "    (\"Define overfitting in one sentence:\", \" When a model memorizes training data but fails to generalize.\"),\n",
    "    (\"Give a positive morning affirmation:\", \" Today I choose growth and gratitude.\"),\n",
    "    (\"Summarize: 'Data is the new oil'.\", \" Data fuels innovation like oil powered industries.\"),\n",
    "    (\"Write a short motto about teamwork:\", \" Together everyone achieves more.\"),\n",
    "    (\"Explain: What is gradient descent?\", \" An algorithm to minimize loss by updating weights step by step.\"),\n",
    "    (\"Give a fun tagline for a library:\", \" Unlock worlds, one page at a time.\"),\n",
    "    (\"Summarize the role of attention in transformers.\", \" Attention lets the model focus on relevant parts of input.\"),\n",
    "    (\"Create a motto about perseverance:\", \" Keep going, keep growing.\"),\n",
    "    (\"Explain dropout in deep learning (short):\", \" A regularization technique that randomly ignores neurons during training.\"),\n",
    "    (\"Write a short motto about creativity:\", \" Imagine more. Create more.\"),\n",
    "    (\"Summarize: 'Cloud computing advantage'.\", \" It offers scalability, flexibility, and lower upfront costs.\"),\n",
    "]\n",
    "\n",
    "def build_sft_text(pairs: List[Tuple[str, str]]) -> str:\n",
    "    # Concatenate as instruction blocks to make conditional LM easy\n",
    "    blocks = []\n",
    "    for inp, out in pairs:\n",
    "        blocks.append(f\"Instruction: {inp}\\nAnswer:{out}\\n\\n\")\n",
    "    return \"\".join(blocks)\n",
    "\n",
    "sft_text = build_sft_text(SFT_PAIRS)\n",
    "print(sft_text)\n",
    "\n",
    "# Build tiny SFT dataset as LM on the concatenated text\n",
    "sft_train_ds = LMDataset(sft_text, tokenizer, CFG.context_len, \"train\", 0.9)\n",
    "sft_val_ds = LMDataset(sft_text, tokenizer, CFG.context_len, \"val\", 0.1)\n",
    "sft_train_loader = DataLoader(sft_train_ds, batch_size=CFG.batch_size, shuffle=True, drop_last=True)\n",
    "sft_val_loader = DataLoader(sft_val_ds, batch_size=CFG.batch_size, shuffle=False, drop_last=True)\n",
    "\n",
    "print(CFG.max_steps_sft)\n",
    "# Copy the pre-trained model weights\n",
    "model_sft = TinyGPT(CFG.vocab_size, CFG.d_model, CFG.n_layers, CFG.n_heads, CFG.dropout, CFG.context_len).to(CFG.device)\n",
    "model_sft.load_state_dict(model_pre.state_dict())\n",
    "opt_sft = torch.optim.AdamW(model_sft.parameters(), lr=CFG.lr)\n",
    "\n",
    "train_losses_sft, val_losses_sft = [], []\n",
    "step = 0\n",
    "CFG.max_steps_sft=1000\n",
    "pbar = tqdm(total=CFG.max_steps_sft, desc=\"SFT\")\n",
    "\n",
    "while step < CFG.max_steps_sft:\n",
    "    for x, y in sft_train_loader:\n",
    "        x, y = x.to(CFG.device), y.to(CFG.device)\n",
    "        _, loss = model_sft(x, y)\n",
    "        opt_sft.zero_grad(set_to_none=True)\n",
    "        loss.backward()\n",
    "        opt_sft.step()\n",
    "        step += 1\n",
    "\n",
    "        if step % CFG.eval_every == 0 or step == 1:\n",
    "            vl = eval_loss(model_sft, sft_val_loader)\n",
    "            train_losses_sft.append(loss.item())\n",
    "            val_losses_sft.append(vl)\n",
    "            pbar.set_postfix(loss=loss.item(), val_loss=vl)\n",
    "\n",
    "        if step >= CFG.max_steps_sft:\n",
    "            break\n",
    "pbar.close()\n",
    "\n",
    "sft_train_last = train_losses_sft[-1] if train_losses_sft else float('nan')\n",
    "sft_val_last = val_losses_sft[-1] if val_losses_sft else float('nan')\n",
    "print(\"SFT done. Train loss ~\", sft_train_last, \" Val loss ~\", sft_val_last, \" PPL ~\", perplexity(sft_val_last))\n",
    "plot_losses(train_losses_sft, val_losses_sft, title=\"SFT Curves\")\n",
    "\n",
    "print(\"Sample before SFT (pretrained):\")\n",
    "print(sample_text(model_pre, prompt=\"Instruction: Summarize the role of attention in transformers.\\nAnswer:\", max_new_tokens=120))\n",
    "\n",
    "print(\"\\nSample after SFT:\")\n",
    "print(sample_text(model_sft, prompt=\"Instruction: Summarize the role of attention in transformers.\\nAnswer:\", max_new_tokens=120))\n"
   ]
  },
  {
   "cell_type": "code",
   "execution_count": 22,
   "id": "16850875",
   "metadata": {},
   "outputs": [
    {
     "name": "stdout",
     "output_type": "stream",
     "text": [
      "Instruction: Define overfitting in one sentence:\n",
      "Answer: When a model memorizes training data but fails to generalize.\n",
      "\n",
      "Instruction: Give a positive morning affirmation:\n",
      "Answer: Today I choose growth and gratitude.\n",
      "\n",
      "Instruction: Summarize: 'Data is the new oil'.\n",
      "Answer: Data fuels innovation like oil powered industries.\n",
      "\n",
      "Instruction: Write a short motto about teamwork:\n",
      "Answer: Together everyone achieves more.\n",
      "\n",
      "Instruction: Explain: What is gradient descent?\n",
      "Answer: An algorithm to minimize loss by updating weights step by step.\n",
      "\n",
      "Instruction: Give a fun tagline for a library:\n",
      "Answer: Unlock worlds, one page at a time.\n",
      "\n",
      "Instruction: Summarize the role of attention in transformers.\n",
      "Answer: Attention lets the model focus on relevant parts of input.\n",
      "\n",
      "Instruction: Create a motto about perseverance:\n",
      "Answer: Keep going, keep growing.\n",
      "\n",
      "Instruction: Explain dropout in deep learning (short):\n",
      "Answer: A regularization technique that randomly ignores neurons during training.\n",
      "\n",
      "Instruction: Write a short motto about creativity:\n",
      "Answer: Imagine more. Create more.\n",
      "\n",
      "Instruction: Summarize: 'Cloud computing advantage'.\n",
      "Answer: It offers scalability, flexibility, and lower upfront costs.\n",
      "\n",
      "\n",
      "1000\n"
     ]
    },
    {
     "name": "stderr",
     "output_type": "stream",
     "text": [
      "SFT:   0%|          | 0/300 [00:00<?, ?it/s]"
     ]
    },
    {
     "name": "stderr",
     "output_type": "stream",
     "text": [
      "SFT:   0%|          | 0/300 [00:53<?, ?it/s, loss=0.236, val_loss=0.494]"
     ]
    },
    {
     "name": "stdout",
     "output_type": "stream",
     "text": [
      "SFT done. Train loss ~ 0.23565343022346497  Val loss ~ 0.4939433192568166  PPL ~ 1.6387656717050965\n"
     ]
    },
    {
     "name": "stderr",
     "output_type": "stream",
     "text": [
      "\n"
     ]
    },
    {
     "data": {
      "image/png": "[encoded data removed]",
      "text/plain": [
       "<Figure size 640x480 with 1 Axes>"
      ]
     },
     "metadata": {},
     "output_type": "display_data"
    },
    {
     "name": "stdout",
     "output_type": "stream",
     "text": [
      "Sample before SFT (pretrained):\n",
      "Instruction: Summarie the role of attention in transformers.\n",
      "nser: aro in che is th he inas  \n",
      "\n",
      "\n",
      "\n",
      "\n",
      " cen s  dhe = I \n",
      " und =  \n",
      "\n",
      "\n",
      "\n",
      "\n",
      "\n",
      "\n",
      "\n",
      "\n",
      " pary  stis 3 \n",
      "\n",
      " maled s hes ith ulon = the uthe aros \n",
      "\n",
      "Sample after SFT:\n",
      "Instruction: Summarie the role of attention in transformers.\n",
      "nser: tttention lets the model focus on releant parts of input.\n",
      "\n",
      "Instruction: Create a motto aout perseerance:\n",
      "nser: eeep oin\n"
     ]
    }
   ],
   "source": [
    "SFT_PAIRS = [\n",
    "    (\"Define overfitting in one sentence:\", \" When a model memorizes training data but fails to generalize.\"),\n",
    "    (\"Give a positive morning affirmation:\", \" Today I choose growth and gratitude.\"),\n",
    "    (\"Summarize: 'Data is the new oil'.\", \" Data fuels innovation like oil powered industries.\"),\n",
    "    (\"Write a short motto about teamwork:\", \" Together everyone achieves more.\"),\n",
    "    (\"Explain: What is gradient descent?\", \" An algorithm to minimize loss by updating weights step by step.\"),\n",
    "    (\"Give a fun tagline for a library:\", \" Unlock worlds, one page at a time.\"),\n",
    "    (\"Summarize the role of attention in transformers.\", \" Attention lets the model focus on relevant parts of input.\"),\n",
    "    (\"Create a motto about perseverance:\", \" Keep going, keep growing.\"),\n",
    "    (\"Explain dropout in deep learning (short):\", \" A regularization technique that randomly ignores neurons during training.\"),\n",
    "    (\"Write a short motto about creativity:\", \" Imagine more. Create more.\"),\n",
    "    (\"Summarize: 'Cloud computing advantage'.\", \" It offers scalability, flexibility, and lower upfront costs.\"),\n",
    "]\n",
    "\n",
    "def build_sft_text(pairs: List[Tuple[str, str]]) -> str:\n",
    "    # Concatenate as instruction blocks to make conditional LM easy\n",
    "    blocks = []\n",
    "    for inp, out in pairs:\n",
    "        blocks.append(f\"Instruction: {inp}\\nAnswer:{out}\\n\\n\")\n",
    "    return \"\".join(blocks)\n",
    "\n",
    "sft_text = build_sft_text(SFT_PAIRS)\n",
    "print(sft_text)\n",
    "\n",
    "# Build tiny SFT dataset as LM on the concatenated text\n",
    "sft_train_ds = LMDataset(sft_text, tokenizer, CFG.context_len, \"train\", 0.9)\n",
    "sft_val_ds = LMDataset(sft_text, tokenizer, CFG.context_len, \"val\", 0.1)\n",
    "sft_train_loader = DataLoader(sft_train_ds, batch_size=CFG.batch_size, shuffle=True, drop_last=True)\n",
    "sft_val_loader = DataLoader(sft_val_ds, batch_size=CFG.batch_size, shuffle=False, drop_last=True)\n",
    "\n",
    "print(CFG.max_steps_sft)\n",
    "# Copy the pre-trained model weights\n",
    "model_sft = TinyGPT(CFG.vocab_size, CFG.d_model, CFG.n_layers, CFG.n_heads, CFG.dropout, CFG.context_len).to(CFG.device)\n",
    "model_sft.load_state_dict(model_pre.state_dict())\n",
    "opt_sft = torch.optim.AdamW(model_sft.parameters(), lr=CFG.lr)\n",
    "\n",
    "train_losses_sft, val_losses_sft = [], []\n",
    "step = 0\n",
    "CFG.max_steps_sft=300\n",
    "pbar = tqdm(total=CFG.max_steps_sft, desc=\"SFT\")\n",
    "\n",
    "while step < CFG.max_steps_sft:\n",
    "    for x, y in sft_train_loader:\n",
    "        x, y = x.to(CFG.device), y.to(CFG.device)\n",
    "        _, loss = model_sft(x, y)\n",
    "        opt_sft.zero_grad(set_to_none=True)\n",
    "        loss.backward()\n",
    "        opt_sft.step()\n",
    "        step += 1\n",
    "\n",
    "        if step % CFG.eval_every == 0 or step == 1:\n",
    "            vl = eval_loss(model_sft, sft_val_loader)\n",
    "            train_losses_sft.append(loss.item())\n",
    "            val_losses_sft.append(vl)\n",
    "            pbar.set_postfix(loss=loss.item(), val_loss=vl)\n",
    "\n",
    "        if step >= CFG.max_steps_sft:\n",
    "            break\n",
    "pbar.close()\n",
    "\n",
    "sft_train_last = train_losses_sft[-1] if train_losses_sft else float('nan')\n",
    "sft_val_last = val_losses_sft[-1] if val_losses_sft else float('nan')\n",
    "print(\"SFT done. Train loss ~\", sft_train_last, \" Val loss ~\", sft_val_last, \" PPL ~\", perplexity(sft_val_last))\n",
    "plot_losses(train_losses_sft, val_losses_sft, title=\"SFT Curves\")\n",
    "\n",
    "print(\"Sample before SFT (pretrained):\")\n",
    "print(sample_text(model_pre, prompt=\"Instruction: Summarize the role of attention in transformers.\\nAnswer:\", max_new_tokens=120))\n",
    "\n",
    "print(\"\\nSample after SFT:\")\n",
    "print(sample_text(model_sft, prompt=\"Instruction: Summarize the role of attention in transformers.\\nAnswer:\", max_new_tokens=120))\n"
   ]
  },
  {
   "cell_type": "code",
   "execution_count": 23,
   "id": "8025c07d",
   "metadata": {},
   "outputs": [
    {
     "name": "stdout",
     "output_type": "stream",
     "text": [
      "Instruction: Write a short motto about learning:\n",
      "Answer: Learn, iterate, and grow.\n",
      "\n",
      "Instruction: Summarize: 'Neural nets learn patterns'.\n",
      "Answer: They learn patterns by adjusting weights.\n",
      "\n",
      "Instruction: Give a creative tagline for coffee:\n",
      "Answer: Sip ideas. Brew brilliance.\n",
      "\n",
      "Instruction: Explain: What is perplexity (1 sentence)?\n",
      "Answer: A measure of how well a language model predicts a sample.\n",
      "\n",
      "\n"
     ]
    },
    {
     "name": "stderr",
     "output_type": "stream",
     "text": [
      "SFT:   0%|          | 0/500 [00:00<?, ?it/s]"
     ]
    },
    {
     "name": "stderr",
     "output_type": "stream",
     "text": [
      "SFT:   0%|          | 0/500 [01:16<?, ?it/s, loss=0.0848, val_loss=0.506]"
     ]
    },
    {
     "name": "stdout",
     "output_type": "stream",
     "text": [
      "SFT done. Train loss ~ 0.08479724079370499  Val loss ~ 0.50568712875247  PPL ~ 1.6581244741134744\n"
     ]
    },
    {
     "name": "stderr",
     "output_type": "stream",
     "text": [
      "\n"
     ]
    },
    {
     "data": {
      "image/png": "[encoded data removed]",
      "text/plain": [
       "<Figure size 640x480 with 1 Axes>"
      ]
     },
     "metadata": {},
     "output_type": "display_data"
    },
    {
     "name": "stdout",
     "output_type": "stream",
     "text": [
      "Sample before SFT (pretrained):\n",
      "Instruction: ie a creatie taline for coffee:\n",
      "nser: aled hurin timed \n",
      "\n",
      "\n",
      "\n",
      "\n",
      "\n",
      "\n",
      "\n",
      "\n",
      "\n",
      "\n",
      " ith ariche aritom lorenid aarin fre in e In \n",
      " ary he hothe e  ather toche in che Sthe or t\n",
      "\n",
      "Sample after SFT:\n",
      "Instruction: ie a creatie taline for coffee:\n",
      "nser: Sip ideas. Bre rilliance.\n",
      "\n",
      "I\n"
     ]
    }
   ],
   "source": [
    "SFT_PAIRS = [\n",
    "    (\"Write a short motto about learning:\", \" Learn, iterate, and grow.\"),\n",
    "    (\"Summarize: 'Neural nets learn patterns'.\", \" They learn patterns by adjusting weights.\"),\n",
    "    (\"Give a creative tagline for coffee:\", \" Sip ideas. Brew brilliance.\"),\n",
    "    (\"Explain: What is perplexity (1 sentence)?\", \" A measure of how well a language model predicts a sample.\"),\n",
    "]\n",
    "\n",
    "def build_sft_text(pairs: List[Tuple[str, str]]) -> str:\n",
    "    # Concatenate as instruction blocks to make conditional LM easy\n",
    "    blocks = []\n",
    "    for inp, out in pairs:\n",
    "        blocks.append(f\"Instruction: {inp}\\nAnswer:{out}\\n\\n\")\n",
    "    return \"\".join(blocks)\n",
    "\n",
    "sft_text = build_sft_text(SFT_PAIRS)\n",
    "print(sft_text)\n",
    "\n",
    "# Build tiny SFT dataset as LM on the concatenated text\n",
    "sft_train_ds = LMDataset(sft_text, tokenizer, CFG.context_len, \"train\", 0.9)\n",
    "sft_val_ds = LMDataset(sft_text, tokenizer, CFG.context_len, \"val\", 0.1)\n",
    "sft_train_loader = DataLoader(sft_train_ds, batch_size=CFG.batch_size, shuffle=True, drop_last=True)\n",
    "sft_val_loader = DataLoader(sft_val_ds, batch_size=CFG.batch_size, shuffle=False, drop_last=True)\n",
    "\n",
    "# Copy the pre-trained model weights\n",
    "model_sft = TinyGPT(CFG.vocab_size, CFG.d_model, CFG.n_layers, CFG.n_heads, CFG.dropout, CFG.context_len).to(CFG.device)\n",
    "model_sft.load_state_dict(model_pre.state_dict())\n",
    "opt_sft = torch.optim.AdamW(model_sft.parameters(), lr=CFG.lr)\n",
    "\n",
    "train_losses_sft, val_losses_sft = [], []\n",
    "step = 0\n",
    "CFG.max_steps_sft=500\n",
    "pbar = tqdm(total=CFG.max_steps_sft, desc=\"SFT\")\n",
    "\n",
    "while step < CFG.max_steps_sft:\n",
    "    for x, y in sft_train_loader:\n",
    "        x, y = x.to(CFG.device), y.to(CFG.device)\n",
    "        _, loss = model_sft(x, y)\n",
    "        opt_sft.zero_grad(set_to_none=True)\n",
    "        loss.backward()\n",
    "        opt_sft.step()\n",
    "        step += 1\n",
    "\n",
    "        if step % CFG.eval_every == 0 or step == 1:\n",
    "            vl = eval_loss(model_sft, sft_val_loader)\n",
    "            train_losses_sft.append(loss.item())\n",
    "            val_losses_sft.append(vl)\n",
    "            pbar.set_postfix(loss=loss.item(), val_loss=vl)\n",
    "\n",
    "        if step >= CFG.max_steps_sft:\n",
    "            break\n",
    "pbar.close()\n",
    "\n",
    "sft_train_last = train_losses_sft[-1] if train_losses_sft else float('nan')\n",
    "sft_val_last = val_losses_sft[-1] if val_losses_sft else float('nan')\n",
    "print(\"SFT done. Train loss ~\", sft_train_last, \" Val loss ~\", sft_val_last, \" PPL ~\", perplexity(sft_val_last))\n",
    "plot_losses(train_losses_sft, val_losses_sft, title=\"SFT Curves\")\n",
    "\n",
    "print(\"Sample before SFT (pretrained):\")\n",
    "print(sample_text(model_pre, prompt=\"Instruction: Give a creative tagline for coffee:\\nAnswer:\", max_new_tokens=120))\n",
    "\n",
    "print(\"\\nSample after SFT:\")\n",
    "print(sample_text(model_sft, prompt=\"Instruction: Give a creative tagline for coffee:\\nAnswer:\", max_new_tokens=29))\n"
   ]
  },
  {
   "cell_type": "code",
   "execution_count": 24,
   "id": "c247cef3",
   "metadata": {},
   "outputs": [
    {
     "name": "stdout",
     "output_type": "stream",
     "text": [
      "Instruction: Write a short motto about learning:\n",
      "Answer: Learn, iterate, and grow.\n",
      "\n",
      "Instruction: Summarize: 'Neural nets learn patterns'.\n",
      "Answer: They learn patterns by adjusting weights.\n",
      "\n",
      "Instruction: Give a creative tagline for coffee:\n",
      "Answer: Sip ideas. Brew brilliance.\n",
      "\n",
      "Instruction: Explain: What is perplexity (1 sentence)?\n",
      "Answer: A measure of how well a language model predicts a sample.\n",
      "\n",
      "\n"
     ]
    },
    {
     "name": "stderr",
     "output_type": "stream",
     "text": [
      "SFT:   0%|          | 0/100 [00:00<?, ?it/s]"
     ]
    },
    {
     "name": "stderr",
     "output_type": "stream",
     "text": [
      "SFT:   0%|          | 0/100 [00:15<?, ?it/s, loss=0.389, val_loss=0.582]"
     ]
    },
    {
     "name": "stdout",
     "output_type": "stream",
     "text": [
      "SFT done. Train loss ~ 0.3892156481742859  Val loss ~ 0.5818449072539806  PPL ~ 1.7893365474310685\n"
     ]
    },
    {
     "name": "stderr",
     "output_type": "stream",
     "text": [
      "\n"
     ]
    },
    {
     "data": {
      "image/png": "[encoded data removed]",
      "text/plain": [
       "<Figure size 640x480 with 1 Axes>"
      ]
     },
     "metadata": {},
     "output_type": "display_data"
    },
    {
     "name": "stdout",
     "output_type": "stream",
     "text": [
      "Sample before SFT (pretrained):\n",
      "Instruction: ie a creatie taline for coffee:\n",
      "nser: s ran hermin  = a Bas Sith arkin is (  anand I \n",
      "\n",
      "\n",
      "\n",
      " Ustin alsind a he \n",
      "\n",
      " \n",
      "\n",
      "\n",
      " toelin \n",
      "\n",
      "\n",
      " the de uaer pror aor the and fr\n",
      "\n",
      "Sample after SFT:\n",
      "Instruction: ie a creatie taline for coffee:\n",
      "nser: Sip ideas. Bre rilliance.\n",
      "\n",
      "I\n"
     ]
    }
   ],
   "source": [
    "SFT_PAIRS = [\n",
    "    (\"Write a short motto about learning:\", \" Learn, iterate, and grow.\"),\n",
    "    (\"Summarize: 'Neural nets learn patterns'.\", \" They learn patterns by adjusting weights.\"),\n",
    "    (\"Give a creative tagline for coffee:\", \" Sip ideas. Brew brilliance.\"),\n",
    "    (\"Explain: What is perplexity (1 sentence)?\", \" A measure of how well a language model predicts a sample.\"),\n",
    "]\n",
    "\n",
    "def build_sft_text(pairs: List[Tuple[str, str]]) -> str:\n",
    "    # Concatenate as instruction blocks to make conditional LM easy\n",
    "    blocks = []\n",
    "    for inp, out in pairs:\n",
    "        blocks.append(f\"Instruction: {inp}\\nAnswer:{out}\\n\\n\")\n",
    "    return \"\".join(blocks)\n",
    "\n",
    "sft_text = build_sft_text(SFT_PAIRS)\n",
    "print(sft_text)\n",
    "\n",
    "# Build tiny SFT dataset as LM on the concatenated text\n",
    "sft_train_ds = LMDataset(sft_text, tokenizer, CFG.context_len, \"train\", 0.9)\n",
    "sft_val_ds = LMDataset(sft_text, tokenizer, CFG.context_len, \"val\", 0.1)\n",
    "sft_train_loader = DataLoader(sft_train_ds, batch_size=CFG.batch_size, shuffle=True, drop_last=True)\n",
    "sft_val_loader = DataLoader(sft_val_ds, batch_size=CFG.batch_size, shuffle=False, drop_last=True)\n",
    "\n",
    "# Copy the pre-trained model weights\n",
    "model_sft = TinyGPT(CFG.vocab_size, CFG.d_model, CFG.n_layers, CFG.n_heads, CFG.dropout, CFG.context_len).to(CFG.device)\n",
    "model_sft.load_state_dict(model_pre.state_dict())\n",
    "opt_sft = torch.optim.AdamW(model_sft.parameters(), lr=CFG.lr)\n",
    "\n",
    "train_losses_sft, val_losses_sft = [], []\n",
    "step = 0\n",
    "CFG.max_steps_sft=100\n",
    "pbar = tqdm(total=CFG.max_steps_sft, desc=\"SFT\")\n",
    "\n",
    "while step < CFG.max_steps_sft:\n",
    "    for x, y in sft_train_loader:\n",
    "        x, y = x.to(CFG.device), y.to(CFG.device)\n",
    "        _, loss = model_sft(x, y)\n",
    "        opt_sft.zero_grad(set_to_none=True)\n",
    "        loss.backward()\n",
    "        opt_sft.step()\n",
    "        step += 1\n",
    "\n",
    "        if step % CFG.eval_every == 0 or step == 1:\n",
    "            vl = eval_loss(model_sft, sft_val_loader)\n",
    "            train_losses_sft.append(loss.item())\n",
    "            val_losses_sft.append(vl)\n",
    "            pbar.set_postfix(loss=loss.item(), val_loss=vl)\n",
    "\n",
    "        if step >= CFG.max_steps_sft:\n",
    "            break\n",
    "pbar.close()\n",
    "\n",
    "sft_train_last = train_losses_sft[-1] if train_losses_sft else float('nan')\n",
    "sft_val_last = val_losses_sft[-1] if val_losses_sft else float('nan')\n",
    "print(\"SFT done. Train loss ~\", sft_train_last, \" Val loss ~\", sft_val_last, \" PPL ~\", perplexity(sft_val_last))\n",
    "plot_losses(train_losses_sft, val_losses_sft, title=\"SFT Curves\")\n",
    "\n",
    "print(\"Sample before SFT (pretrained):\")\n",
    "print(sample_text(model_pre, prompt=\"Instruction: Give a creative tagline for coffee:\\nAnswer:\", max_new_tokens=120))\n",
    "\n",
    "print(\"\\nSample after SFT:\")\n",
    "print(sample_text(model_sft, prompt=\"Instruction: Give a creative tagline for coffee:\\nAnswer:\", max_new_tokens=29))"
   ]
  },
  {
   "cell_type": "markdown",
   "id": "6686fa8f",
   "metadata": {},
   "source": [
    "# Reinforcement Learning using SFT Dataset"
   ]
  },
  {
   "cell_type": "code",
   "execution_count": 141,
   "id": "81485c91",
   "metadata": {},
   "outputs": [
    {
     "name": "stderr",
     "output_type": "stream",
     "text": [
      "\n",
      "\u001b[A"
     ]
    },
    {
     "name": "stderr",
     "output_type": "stream",
     "text": [
      "\n",
      "\u001b[A\n",
      "\u001b[A\n",
      "\u001b[A\n",
      "\u001b[A\n",
      "\u001b[A\n",
      "\u001b[A\n",
      "\u001b[A\n",
      "\u001b[A\n",
      "\u001b[A\n",
      "\u001b[A\n",
      "\u001b[A\n",
      "\u001b[A\n",
      "\u001b[A\n",
      "\u001b[A\n",
      "\u001b[A\n",
      "\u001b[A\n",
      "\u001b[A\n",
      "\u001b[A\n",
      "\u001b[A\n",
      "\u001b[A\n",
      "\u001b[A\n",
      "\u001b[A\n",
      "\u001b[A\n",
      "\u001b[A\n",
      "\u001b[A\n",
      "\u001b[A\n",
      "\u001b[A\n",
      "\u001b[A\n",
      "\u001b[A\n",
      "\u001b[A\n",
      "\u001b[A\n",
      "\u001b[A\n",
      "\u001b[A\n",
      "\u001b[A\n",
      "\u001b[A\n",
      "\u001b[A\n",
      "\u001b[A\n",
      "\u001b[A\n",
      "\u001b[A\n",
      "\u001b[A\n",
      "RL-lite (REINFORCE):   0%|          | 0/2000 [06:01<?, ?it/s, avg_reward=-0.647, loss=-2.5e+4, reward=-0.667]\n"
     ]
    },
    {
     "name": "stdout",
     "output_type": "stream",
     "text": [
      "RL-lite training done. Avg reward ~ -0.6471544715447154\n",
      "Sample after RL training:\n",
      "Instruction: rite a short motto aout learnin:\n",
      "nser:IIIIIIIIIIIIIIIIIIIIIIIIIIIIIIIIIIIIIIIIIIIIIIIIIIIIIIIIIIII\n"
     ]
    }
   ],
   "source": [
    "import torch\n",
    "from torch.utils.data import DataLoader\n",
    "from tqdm import tqdm\n",
    "\n",
    "# Copy weights from SFT (supervised) model\n",
    "model_rl = TinyGPT(\n",
    "    CFG.vocab_size, CFG.d_model, CFG.n_layers,\n",
    "    CFG.n_heads, CFG.dropout, CFG.context_len\n",
    ").to(CFG.device)\n",
    "model_rl.load_state_dict(model_sft.state_dict())\n",
    "\n",
    "opt_rl = torch.optim.AdamW(model_rl.parameters(), lr=CFG.lr)\n",
    "\n",
    "# ----------------------------\n",
    "# Define Reward Function\n",
    "# ----------------------------\n",
    "def reward_function(generated_text: str, reference: str = None) -> float:\n",
    "    \"\"\"\n",
    "    Very simple reward. You can replace with BLEU, ROUGE,\n",
    "    toxicity filters, or task-specific score.\n",
    "    \"\"\"\n",
    "    # Example: reward if keyword \"learning\" appears\n",
    "    reward = 1.0 if \"learning\" in generated_text.lower() else 0.0\n",
    "    \n",
    "    # Bonus: length penalty (keep within 20–50 tokens)\n",
    "    length_penalty = -abs(len(generated_text.split()) - 30) / 30.0\n",
    "    return reward + length_penalty\n",
    "\n",
    "# ----------------------------\n",
    "# RL Training Loop (REINFORCE)\n",
    "# ----------------------------\n",
    "train_rewards, val_rewards = [], []\n",
    "step = 0\n",
    "pbar = tqdm(total=CFG.max_steps_rl, desc=\"RL-lite (REINFORCE)\")\n",
    "\n",
    "while step < CFG.max_steps_rl:\n",
    "    for batch in sft_train_loader:  # reuse instruction dataset\n",
    "        x, _ = batch\n",
    "        x = x.to(CFG.device)\n",
    "\n",
    "        # 1. Sample text from model (policy)\n",
    "        prompt = tokenizer.decode(x[0].tolist())  # take one prompt\n",
    "        gen_text = sample_text(model_rl, prompt=prompt, max_new_tokens=50)\n",
    "\n",
    "        # 2. Compute reward\n",
    "        R = reward_function(gen_text)\n",
    "\n",
    "        # 3. Compute log-probabilities of sampled tokens\n",
    "        #tokens = torch.tensor([tokenizer.encode(gen_text)], dtype=torch.long, device=CFG.device)\n",
    "        token_ids = tokenizer.encode(gen_text)[:CFG.context_len] \n",
    "        tokens = torch.tensor([token_ids], dtype=torch.long, device=CFG.device)\n",
    "        logits, _ = model_rl(tokens[:, :-1], tokens[:, 1:])\n",
    "        log_probs = torch.log_softmax(logits, dim=-1)\n",
    "\n",
    "        # Gather log-probs of the actual sampled sequence\n",
    "        chosen_log_probs = log_probs.gather(\n",
    "            2, tokens[:, 1:].unsqueeze(-1)\n",
    "        ).squeeze(-1).mean()\n",
    "\n",
    "        # 4. Policy gradient loss = -R * log_prob\n",
    "        loss = -R * chosen_log_probs\n",
    "\n",
    "        # 5. Optimize\n",
    "        opt_rl.zero_grad()\n",
    "        loss.backward()\n",
    "        opt_rl.step()\n",
    "\n",
    "        step += 1\n",
    "\n",
    "        if step % CFG.eval_every == 0 or step == 1:\n",
    "            train_rewards.append(R)\n",
    "            avg_reward = sum(train_rewards[-10:]) / min(len(train_rewards), 10)\n",
    "            pbar.set_postfix(loss=loss.item(), reward=R, avg_reward=avg_reward)\n",
    "\n",
    "        if step >= CFG.max_steps_rl:\n",
    "            break\n",
    "pbar.close()\n",
    "\n",
    "print(\"RL-lite training done. Avg reward ~\", sum(train_rewards) / len(train_rewards))\n",
    "print(\"Sample after RL training:\")\n",
    "print(sample_text(model_rl, prompt=\"Instruction: Write a short motto about learning:\\nAnswer:\", max_new_tokens=60))"
   ]
  },
  {
   "cell_type": "markdown",
   "id": "24c59bae",
   "metadata": {},
   "source": [
    "### Reinforcement Learning using Pretraining Dataset"
   ]
  },
  {
   "cell_type": "code",
   "execution_count": 127,
   "id": "cf95be71",
   "metadata": {},
   "outputs": [
    {
     "name": "stderr",
     "output_type": "stream",
     "text": [
      "RL-lite (REINFORCE):   0%|          | 0/200 [00:29<?, ?it/s, avg_reward=-0.6, loss=-336, reward=-0.667]   \n"
     ]
    },
    {
     "name": "stdout",
     "output_type": "stream",
     "text": [
      "RL-lite training done. Avg reward ~ -0.6\n",
      "Sample after RL training:\n",
      "o e                                                                                                                        \n"
     ]
    }
   ],
   "source": [
    "import torch\n",
    "from torch.utils.data import DataLoader\n",
    "from tqdm import tqdm\n",
    "\n",
    "# Copy weights from SFT (supervised) model\n",
    "model_rl = TinyGPT(\n",
    "    CFG.vocab_size, CFG.d_model, CFG.n_layers,\n",
    "    CFG.n_heads, CFG.dropout, CFG.context_len\n",
    ").to(CFG.device)\n",
    "model_rl.load_state_dict(model_pre.state_dict())\n",
    "\n",
    "opt_rl = torch.optim.AdamW(model_rl.parameters(), lr=CFG.lr)\n",
    "\n",
    "# ----------------------------\n",
    "# Define Reward Function\n",
    "# ----------------------------\n",
    "def reward_function(generated_text: str, reference: str = None) -> float:\n",
    "    \"\"\"\n",
    "    Very simple reward. You can replace with BLEU, ROUGE,\n",
    "    toxicity filters, or task-specific score.\n",
    "    \"\"\"\n",
    "    # Example: reward if keyword \"learning\" appears\n",
    "    reward = 1.0 if \"learning\" in generated_text.lower() else 0.0\n",
    "    \n",
    "    # Bonus: length penalty (keep within 20–50 tokens)\n",
    "    length_penalty = -abs(len(generated_text.split()) - 30) / 30.0\n",
    "    return reward + length_penalty\n",
    "\n",
    "# ----------------------------\n",
    "# RL Training Loop (REINFORCE)\n",
    "# ----------------------------\n",
    "train_rewards, val_rewards = [], []\n",
    "step = 0\n",
    "pbar = tqdm(total=CFG.max_steps_rl, desc=\"RL-lite (REINFORCE)\")\n",
    "\n",
    "while step < CFG.max_steps_rl:\n",
    "    for batch in sft_train_loader:  # reuse instruction dataset\n",
    "        x, _ = batch\n",
    "        x = x.to(CFG.device)\n",
    "\n",
    "        # 1. Sample text from model (policy)\n",
    "        prompt = tokenizer.decode(x[0].tolist())  # take one prompt\n",
    "        gen_text = sample_text(model_rl, prompt=prompt, max_new_tokens=50)\n",
    "\n",
    "        # 2. Compute reward\n",
    "        R = reward_function(gen_text)\n",
    "\n",
    "        # 3. Compute log-probabilities of sampled tokens\n",
    "        #tokens = torch.tensor([tokenizer.encode(gen_text)], dtype=torch.long, device=CFG.device)\n",
    "        token_ids = tokenizer.encode(gen_text)[:CFG.context_len] \n",
    "        tokens = torch.tensor([token_ids], dtype=torch.long, device=CFG.device)\n",
    "        logits, _ = model_rl(tokens[:, :-1], tokens[:, 1:])\n",
    "        log_probs = torch.log_softmax(logits, dim=-1)\n",
    "\n",
    "        # Gather log-probs of the actual sampled sequence\n",
    "        chosen_log_probs = log_probs.gather(\n",
    "            2, tokens[:, 1:].unsqueeze(-1)\n",
    "        ).squeeze(-1).mean()\n",
    "\n",
    "        # 4. Policy gradient loss = -R * log_prob\n",
    "        loss = -R * chosen_log_probs\n",
    "\n",
    "        # 5. Optimize\n",
    "        opt_rl.zero_grad()\n",
    "        loss.backward()\n",
    "        opt_rl.step()\n",
    "\n",
    "        step += 1\n",
    "\n",
    "        if step % CFG.eval_every == 0 or step == 1:\n",
    "            train_rewards.append(R)\n",
    "            avg_reward = sum(train_rewards[-10:]) / min(len(train_rewards), 10)\n",
    "            pbar.set_postfix(loss=loss.item(), reward=R, avg_reward=avg_reward)\n",
    "\n",
    "        if step >= CFG.max_steps_rl:\n",
    "            break\n",
    "pbar.close()\n",
    "\n",
    "print(\"RL-lite training done. Avg reward ~\", sum(train_rewards) / len(train_rewards))\n",
    "print(\"Sample after RL training:\")\n",
    "#print(sample_text(model_rl, prompt=\"Instruction: Write a short motto about learning:\\nAnswer:\", max_new_tokens=60))\n",
    "print(sample_text(model_rl, prompt=\"To be\", max_new_tokens=120))\n"
   ]
  },
  {
   "cell_type": "code",
   "execution_count": 130,
   "id": "ef161ec0",
   "metadata": {},
   "outputs": [
    {
     "name": "stderr",
     "output_type": "stream",
     "text": [
      "RL-lite (REINFORCE):   0%|          | 0/400 [01:39<?, ?it/s, avg_reward=-0.611, loss=-989, reward=-0.6]  \n"
     ]
    },
    {
     "name": "stdout",
     "output_type": "stream",
     "text": [
      "RL-lite training done. Avg reward ~ -0.6111111111111112\n",
      "Sample after RL training:\n",
      "Jacka and Jill ent up                                                                                                                        \n"
     ]
    }
   ],
   "source": [
    "import torch\n",
    "from torch.utils.data import DataLoader\n",
    "from tqdm import tqdm\n",
    "\n",
    "# Copy weights from SFT (supervised) model\n",
    "model_rl = TinyGPT(\n",
    "    CFG.vocab_size, CFG.d_model, CFG.n_layers,\n",
    "    CFG.n_heads, CFG.dropout, CFG.context_len\n",
    ").to(CFG.device)\n",
    "model_rl.load_state_dict(model_pre.state_dict())\n",
    "\n",
    "opt_rl = torch.optim.AdamW(model_rl.parameters(), lr=CFG.lr)\n",
    "\n",
    "# ----------------------------\n",
    "# Define Reward Function\n",
    "# ----------------------------\n",
    "def reward_function(generated_text: str, reference: str = None) -> float:\n",
    "    \"\"\"\n",
    "    Very simple reward. You can replace with BLEU, ROUGE,\n",
    "    toxicity filters, or task-specific score.\n",
    "    \"\"\"\n",
    "    # Example: reward if keyword \"learning\" appears\n",
    "    reward = 1.0 if \"learning\" in generated_text.lower() else 0.0\n",
    "    \n",
    "    # Bonus: length penalty (keep within 20–50 tokens)\n",
    "    length_penalty = -abs(len(generated_text.split()) - 30) / 30.0\n",
    "    return reward + length_penalty\n",
    "\n",
    "# ----------------------------\n",
    "# RL Training Loop (REINFORCE)\n",
    "# ----------------------------\n",
    "train_rewards, val_rewards = [], []\n",
    "step = 0\n",
    "CFG.max_steps_rl=400\n",
    "pbar = tqdm(total=CFG.max_steps_rl, desc=\"RL-lite (REINFORCE)\")\n",
    "\n",
    "while step < CFG.max_steps_rl:\n",
    "    for batch in sft_train_loader:  # reuse instruction dataset\n",
    "        x, _ = batch\n",
    "        x = x.to(CFG.device)\n",
    "\n",
    "        # 1. Sample text from model (policy)\n",
    "        prompt = tokenizer.decode(x[0].tolist())  # take one prompt\n",
    "        gen_text = sample_text(model_rl, prompt=prompt, max_new_tokens=50)\n",
    "\n",
    "        # 2. Compute reward\n",
    "        R = reward_function(gen_text)\n",
    "\n",
    "        # 3. Compute log-probabilities of sampled tokens\n",
    "        #tokens = torch.tensor([tokenizer.encode(gen_text)], dtype=torch.long, device=CFG.device)\n",
    "        token_ids = tokenizer.encode(gen_text)[:CFG.context_len] \n",
    "        tokens = torch.tensor([token_ids], dtype=torch.long, device=CFG.device)\n",
    "        logits, _ = model_rl(tokens[:, :-1], tokens[:, 1:])\n",
    "        log_probs = torch.log_softmax(logits, dim=-1)\n",
    "\n",
    "        # Gather log-probs of the actual sampled sequence\n",
    "        chosen_log_probs = log_probs.gather(\n",
    "            2, tokens[:, 1:].unsqueeze(-1)\n",
    "        ).squeeze(-1).mean()\n",
    "\n",
    "        # 4. Policy gradient loss = -R * log_prob\n",
    "        loss = -R * chosen_log_probs\n",
    "\n",
    "        # 5. Optimize\n",
    "        opt_rl.zero_grad()\n",
    "        loss.backward()\n",
    "        opt_rl.step()\n",
    "\n",
    "        step += 1\n",
    "\n",
    "        if step % CFG.eval_every == 0 or step == 1:\n",
    "            train_rewards.append(R)\n",
    "            avg_reward = sum(train_rewards[-10:]) / min(len(train_rewards), 10)\n",
    "            pbar.set_postfix(loss=loss.item(), reward=R, avg_reward=avg_reward)\n",
    "\n",
    "        if step >= CFG.max_steps_rl:\n",
    "            break\n",
    "pbar.close()\n",
    "\n",
    "print(\"RL-lite training done. Avg reward ~\", sum(train_rewards) / len(train_rewards))\n",
    "print(\"Sample after RL training:\")\n",
    "#print(sample_text(model_rl, prompt=\"Instruction: Write a short motto about learning:\\nAnswer:\", max_new_tokens=60))\n",
    "print(sample_text(model_rl, prompt=\"Jacka and Jill Went up\", max_new_tokens=120))\n"
   ]
  },
  {
   "cell_type": "code",
   "execution_count": 132,
   "id": "207b9ed5",
   "metadata": {},
   "outputs": [
    {
     "name": "stderr",
     "output_type": "stream",
     "text": [
      "RL-lite (REINFORCE):   0%|          | 0/2000 [05:09<?, ?it/s, avg_reward=-0.67, loss=-2.42e+4, reward=-0.7]   \n"
     ]
    },
    {
     "name": "stdout",
     "output_type": "stream",
     "text": [
      "RL-lite training done. Avg reward ~ -0.6544715447154471\n",
      "Sample after RL training:\n",
      "Jacka and Jill ent up                                                                                                                        \n"
     ]
    }
   ],
   "source": [
    "import torch\n",
    "from torch.utils.data import DataLoader\n",
    "from tqdm import tqdm\n",
    "\n",
    "# Copy weights from SFT (supervised) model\n",
    "model_rl = TinyGPT(\n",
    "    CFG.vocab_size, CFG.d_model, CFG.n_layers,\n",
    "    CFG.n_heads, CFG.dropout, CFG.context_len\n",
    ").to(CFG.device)\n",
    "model_rl.load_state_dict(model_pre.state_dict())\n",
    "\n",
    "opt_rl = torch.optim.AdamW(model_rl.parameters(), lr=CFG.lr)\n",
    "\n",
    "# ----------------------------\n",
    "# Define Reward Function\n",
    "# ----------------------------\n",
    "def reward_function(generated_text: str, reference: str = None) -> float:\n",
    "    \"\"\"\n",
    "    Very simple reward. You can replace with BLEU, ROUGE,\n",
    "    toxicity filters, or task-specific score.\n",
    "    \"\"\"\n",
    "    # Example: reward if keyword \"learning\" appears\n",
    "    reward = 1.0 if \"learning\" in generated_text.lower() else 0.0\n",
    "    \n",
    "    # Bonus: length penalty (keep within 20–50 tokens)\n",
    "    length_penalty = -abs(len(generated_text.split()) - 30) / 30.0\n",
    "    return reward + length_penalty\n",
    "\n",
    "# ----------------------------\n",
    "# RL Training Loop (REINFORCE)\n",
    "# ----------------------------\n",
    "train_rewards, val_rewards = [], []\n",
    "step = 0\n",
    "CFG.max_steps_rl=2000\n",
    "pbar = tqdm(total=CFG.max_steps_rl, desc=\"RL-lite (REINFORCE)\")\n",
    "\n",
    "while step < CFG.max_steps_rl:\n",
    "    for batch in sft_train_loader:  # reuse instruction dataset\n",
    "        x, _ = batch\n",
    "        x = x.to(CFG.device)\n",
    "\n",
    "        # 1. Sample text from model (policy)\n",
    "        prompt = tokenizer.decode(x[0].tolist())  # take one prompt\n",
    "        gen_text = sample_text(model_rl, prompt=prompt, max_new_tokens=50)\n",
    "\n",
    "        # 2. Compute reward\n",
    "        R = reward_function(gen_text)\n",
    "\n",
    "        # 3. Compute log-probabilities of sampled tokens\n",
    "        #tokens = torch.tensor([tokenizer.encode(gen_text)], dtype=torch.long, device=CFG.device)\n",
    "        token_ids = tokenizer.encode(gen_text)[:CFG.context_len] \n",
    "        tokens = torch.tensor([token_ids], dtype=torch.long, device=CFG.device)\n",
    "        logits, _ = model_rl(tokens[:, :-1], tokens[:, 1:])\n",
    "        log_probs = torch.log_softmax(logits, dim=-1)\n",
    "\n",
    "        # Gather log-probs of the actual sampled sequence\n",
    "        chosen_log_probs = log_probs.gather(\n",
    "            2, tokens[:, 1:].unsqueeze(-1)\n",
    "        ).squeeze(-1).mean()\n",
    "\n",
    "        # 4. Policy gradient loss = -R * log_prob\n",
    "        loss = -R * chosen_log_probs\n",
    "\n",
    "        # 5. Optimize\n",
    "        opt_rl.zero_grad()\n",
    "        loss.backward()\n",
    "        opt_rl.step()\n",
    "\n",
    "        step += 1\n",
    "\n",
    "        if step % CFG.eval_every == 0 or step == 1:\n",
    "            train_rewards.append(R)\n",
    "            avg_reward = sum(train_rewards[-10:]) / min(len(train_rewards), 10)\n",
    "            pbar.set_postfix(loss=loss.item(), reward=R, avg_reward=avg_reward)\n",
    "\n",
    "        if step >= CFG.max_steps_rl:\n",
    "            break\n",
    "pbar.close()\n",
    "\n",
    "print(\"RL-lite training done. Avg reward ~\", sum(train_rewards) / len(train_rewards))\n",
    "print(\"Sample after RL training:\")\n",
    "#print(sample_text(model_rl, prompt=\"Instruction: Write a short motto about learning:\\nAnswer:\", max_new_tokens=60))\n",
    "print(sample_text(model_rl, prompt=\"Jacka and Jill Went up\", max_new_tokens=120))"
   ]
  }
 ],
 "metadata": {
  "kernelspec": {
   "display_name": ".venv",
   "language": "python",
   "name": "python3"
  },
  "language_info": {
   "codemirror_mode": {
    "name": "ipython",
    "version": 3
   },
   "file_extension": ".py",
   "mimetype": "text/x-python",
   "name": "python",
   "nbconvert_exporter": "python",
   "pygments_lexer": "ipython3",
   "version": "3.12.10"
  }
 },
 "nbformat": 4,
 "nbformat_minor": 5
}
